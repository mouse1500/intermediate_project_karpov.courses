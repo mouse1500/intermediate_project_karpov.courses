{
 "cells": [
  {
   "cell_type": "code",
   "execution_count": 1,
   "metadata": {},
   "outputs": [
    {
     "data": {
      "text/plain": [
       "'/mnt/HC_Volume_18315164/home-jupyter/jupyter-i-berezin-33/first_project'"
      ]
     },
     "execution_count": 1,
     "metadata": {},
     "output_type": "execute_result"
    }
   ],
   "source": [
    "import numpy as np\n",
    "import pandas as pd\n",
    "import matplotlib.pyplot as plt\n",
    "import matplotlib.dates as mdates\n",
    "import seaborn as sns\n",
    "import os\n",
    "from datetime import date,timedelta\n",
    "%matplotlib inline\n",
    "os.getcwd()"
   ]
  },
  {
   "cell_type": "code",
   "execution_count": 2,
   "metadata": {},
   "outputs": [],
   "source": [
    "customers_df = pd.read_csv('/mnt/HC_Volume_18315164/home-jupyter/jupyter-i-berezin-33/olist_customers_dataset.csv')\n",
    "items_df = pd.read_csv('/mnt/HC_Volume_18315164/home-jupyter/jupyter-i-berezin-33/olist_order_items_dataset.csv', parse_dates=['shipping_limit_date'])\n",
    "orders_df = pd.read_csv('/mnt/HC_Volume_18315164/home-jupyter/jupyter-i-berezin-33/olist_orders_dataset.csv', parse_dates=['order_purchase_timestamp', 'order_approved_at', 'order_delivered_carrier_date', 'order_delivered_customer_date', 'order_estimated_delivery_date'])"
   ]
  },
  {
   "cell_type": "markdown",
   "metadata": {},
   "source": [
    "### Для решения задачи проведи предварительное исследование данных и сформулируй, что должно считаться покупкой. \n",
    "### Обосновать свой выбор ты можешь с помощью фактов оплат, статусов заказов и других имеющихся данных."
   ]
  },
  {
   "cell_type": "code",
   "execution_count": 167,
   "metadata": {},
   "outputs": [
    {
     "name": "stdout",
     "output_type": "stream",
     "text": [
      "<class 'pandas.core.frame.DataFrame'>\n",
      "RangeIndex: 99441 entries, 0 to 99440\n",
      "Data columns (total 5 columns):\n",
      " #   Column                    Non-Null Count  Dtype \n",
      "---  ------                    --------------  ----- \n",
      " 0   customer_id               99441 non-null  object\n",
      " 1   customer_unique_id        99441 non-null  object\n",
      " 2   customer_zip_code_prefix  99441 non-null  int64 \n",
      " 3   customer_city             99441 non-null  object\n",
      " 4   customer_state            99441 non-null  object\n",
      "dtypes: int64(1), object(4)\n",
      "memory usage: 3.8+ MB\n"
     ]
    }
   ],
   "source": [
    "customers_df.info()"
   ]
  },
  {
   "cell_type": "code",
   "execution_count": 168,
   "metadata": {},
   "outputs": [
    {
     "name": "stdout",
     "output_type": "stream",
     "text": [
      "<class 'pandas.core.frame.DataFrame'>\n",
      "RangeIndex: 99441 entries, 0 to 99440\n",
      "Data columns (total 8 columns):\n",
      " #   Column                         Non-Null Count  Dtype         \n",
      "---  ------                         --------------  -----         \n",
      " 0   order_id                       99441 non-null  object        \n",
      " 1   customer_id                    99441 non-null  object        \n",
      " 2   order_status                   99441 non-null  object        \n",
      " 3   order_purchase_timestamp       99441 non-null  datetime64[ns]\n",
      " 4   order_approved_at              99281 non-null  datetime64[ns]\n",
      " 5   order_delivered_carrier_date   97658 non-null  datetime64[ns]\n",
      " 6   order_delivered_customer_date  96476 non-null  datetime64[ns]\n",
      " 7   order_estimated_delivery_date  99441 non-null  datetime64[ns]\n",
      "dtypes: datetime64[ns](5), object(3)\n",
      "memory usage: 6.1+ MB\n"
     ]
    }
   ],
   "source": [
    "orders_df.info()"
   ]
  },
  {
   "cell_type": "code",
   "execution_count": 169,
   "metadata": {},
   "outputs": [
    {
     "name": "stdout",
     "output_type": "stream",
     "text": [
      "<class 'pandas.core.frame.DataFrame'>\n",
      "RangeIndex: 112650 entries, 0 to 112649\n",
      "Data columns (total 7 columns):\n",
      " #   Column               Non-Null Count   Dtype         \n",
      "---  ------               --------------   -----         \n",
      " 0   order_id             112650 non-null  object        \n",
      " 1   order_item_id        112650 non-null  int64         \n",
      " 2   product_id           112650 non-null  object        \n",
      " 3   seller_id            112650 non-null  object        \n",
      " 4   shipping_limit_date  112650 non-null  datetime64[ns]\n",
      " 5   price                112650 non-null  float64       \n",
      " 6   freight_value        112650 non-null  float64       \n",
      "dtypes: datetime64[ns](1), float64(2), int64(1), object(3)\n",
      "memory usage: 6.0+ MB\n"
     ]
    }
   ],
   "source": [
    "items_df.info()"
   ]
  },
  {
   "cell_type": "markdown",
   "metadata": {},
   "source": [
    "###  Продажа\n",
    "Для ее определения будем использовать таблицу  orders_df, т.к. в ней есть колонка order_approved_at в которой отражены все совершенные оплаты товара, исходя из полученной информации данная колонка имеет 99 281 строку, это значит что ровно такое количество пользователй совершили оплату, не зависимо от статуса заказа. \n",
    "Ниже я продемонстрирую какие статусы заказа входят в данную группу."
   ]
  },
  {
   "cell_type": "code",
   "execution_count": 63,
   "metadata": {},
   "outputs": [
    {
     "name": "stdout",
     "output_type": "stream",
     "text": [
      "<class 'pandas.core.frame.DataFrame'>\n",
      "Int64Index: 99281 entries, 0 to 99280\n",
      "Data columns (total 4 columns):\n",
      " #   Column             Non-Null Count  Dtype         \n",
      "---  ------             --------------  -----         \n",
      " 0   order_approved_at  99281 non-null  datetime64[ns]\n",
      " 1   customer_id        99281 non-null  object        \n",
      " 2   order_status       99281 non-null  object        \n",
      " 3   order_id           99281 non-null  int64         \n",
      "dtypes: datetime64[ns](1), int64(1), object(2)\n",
      "memory usage: 3.8+ MB\n"
     ]
    }
   ],
   "source": [
    "payment = orders_df.groupby(['order_approved_at', 'customer_id', 'order_status'], as_index=False).agg({'order_id' : 'count'})\n",
    "payment.info()"
   ]
  },
  {
   "cell_type": "code",
   "execution_count": 64,
   "metadata": {},
   "outputs": [
    {
     "data": {
      "text/plain": [
       "delivered      96464\n",
       "shipped         1107\n",
       "unavailable      609\n",
       "canceled         484\n",
       "invoiced         314\n",
       "processing       301\n",
       "approved           2\n",
       "Name: order_status, dtype: int64"
      ]
     },
     "execution_count": 64,
     "metadata": {},
     "output_type": "execute_result"
    }
   ],
   "source": [
    "payment.order_status.value_counts()"
   ]
  },
  {
   "cell_type": "markdown",
   "metadata": {},
   "source": [
    "### 1.Сколько у нас пользователей, которые совершили покупку только один раз?\n",
    "\n",
    "Для этого возьмем всех пользователей которые совершили хоть одну оплату и проверим их, на количество покупок, затем из этого числа пользователей, отделим число тех кто совершил покупку только один раз и получим ответ на поставленный вопрос."
   ]
  },
  {
   "cell_type": "code",
   "execution_count": 65,
   "metadata": {},
   "outputs": [],
   "source": [
    "customer_orders = orders_df.merge(customers_df, on='customer_id', how='left')"
   ]
  },
  {
   "cell_type": "markdown",
   "metadata": {},
   "source": [
    "#### Подсчет всех пользователей которые совершили покупки."
   ]
  },
  {
   "cell_type": "code",
   "execution_count": 66,
   "metadata": {},
   "outputs": [
    {
     "data": {
      "text/html": [
       "<div>\n",
       "<style scoped>\n",
       "    .dataframe tbody tr th:only-of-type {\n",
       "        vertical-align: middle;\n",
       "    }\n",
       "\n",
       "    .dataframe tbody tr th {\n",
       "        vertical-align: top;\n",
       "    }\n",
       "\n",
       "    .dataframe thead th {\n",
       "        text-align: right;\n",
       "    }\n",
       "</style>\n",
       "<table border=\"1\" class=\"dataframe\">\n",
       "  <thead>\n",
       "    <tr style=\"text-align: right;\">\n",
       "      <th></th>\n",
       "      <th>order_id</th>\n",
       "      <th>customer_unique_id</th>\n",
       "    </tr>\n",
       "  </thead>\n",
       "  <tbody>\n",
       "    <tr>\n",
       "      <th>0</th>\n",
       "      <td>1</td>\n",
       "      <td>99114</td>\n",
       "    </tr>\n",
       "    <tr>\n",
       "      <th>1</th>\n",
       "      <td>2</td>\n",
       "      <td>82</td>\n",
       "    </tr>\n",
       "    <tr>\n",
       "      <th>2</th>\n",
       "      <td>3</td>\n",
       "      <td>1</td>\n",
       "    </tr>\n",
       "  </tbody>\n",
       "</table>\n",
       "</div>"
      ],
      "text/plain": [
       "   order_id  customer_unique_id\n",
       "0         1               99114\n",
       "1         2                  82\n",
       "2         3                   1"
      ]
     },
     "execution_count": 66,
     "metadata": {},
     "output_type": "execute_result"
    }
   ],
   "source": [
    "order_count = customer_orders.groupby(['order_approved_at', 'customer_unique_id'],  as_index=False) \\\n",
    "               .agg({'order_id' : 'count'}) \\\n",
    "               .groupby('order_id', as_index=False).agg({'customer_unique_id':'count'})\n",
    "order_count"
   ]
  },
  {
   "cell_type": "markdown",
   "metadata": {},
   "source": [
    "## Вывод:\n",
    "\n",
    "Таким образом мы получили 99 114 человек, которые совершили 1 покупку. А так же дополнительно нашли тех пользователей, кто совершил иное количество покупок."
   ]
  },
  {
   "cell_type": "markdown",
   "metadata": {},
   "source": [
    "## 2. Сколько заказов в месяц в среднем не доставляется по разным причинам (вывести детализацию по причинам)? "
   ]
  },
  {
   "cell_type": "code",
   "execution_count": 67,
   "metadata": {},
   "outputs": [
    {
     "name": "stdout",
     "output_type": "stream",
     "text": [
      "<class 'pandas.core.frame.DataFrame'>\n",
      "RangeIndex: 99441 entries, 0 to 99440\n",
      "Data columns (total 8 columns):\n",
      " #   Column                         Non-Null Count  Dtype         \n",
      "---  ------                         --------------  -----         \n",
      " 0   order_id                       99441 non-null  object        \n",
      " 1   customer_id                    99441 non-null  object        \n",
      " 2   order_status                   99441 non-null  object        \n",
      " 3   order_purchase_timestamp       99441 non-null  datetime64[ns]\n",
      " 4   order_approved_at              99281 non-null  datetime64[ns]\n",
      " 5   order_delivered_carrier_date   97658 non-null  datetime64[ns]\n",
      " 6   order_delivered_customer_date  96476 non-null  datetime64[ns]\n",
      " 7   order_estimated_delivery_date  99441 non-null  datetime64[ns]\n",
      "dtypes: datetime64[ns](5), object(3)\n",
      "memory usage: 6.1+ MB\n"
     ]
    }
   ],
   "source": [
    "orders_df.info()"
   ]
  },
  {
   "cell_type": "markdown",
   "metadata": {},
   "source": [
    "#### Рассмотрим общее число не доставленных заказов и сгруппируем клиентов по статусам заказ.\n",
    "Отберем заказы с статусом  canceled и unavailable, т.к. данные заказы являются не доставленными по разным причинам, например пользователь сам отказался от заказа, товар кончился на складе или что то произошло во время доставки, что не позволило доставить заказ клиенту."
   ]
  },
  {
   "cell_type": "code",
   "execution_count": 68,
   "metadata": {},
   "outputs": [],
   "source": [
    "value = orders_df.query('order_status != \"delivered\"') \\\n",
    "                 .groupby(['order_estimated_delivery_date', 'order_status'], as_index=False) \\\n",
    "                 .agg({'order_id':'count'}) \\\n",
    "                 .pivot(index='order_estimated_delivery_date', columns='order_status', values='order_id') \\\n",
    "                 .resample('M', 'index').sum()"
   ]
  },
  {
   "cell_type": "code",
   "execution_count": 69,
   "metadata": {},
   "outputs": [
    {
     "data": {
      "text/plain": [
       "order_status\n",
       "canceled       23.0\n",
       "unavailable    23.0\n",
       "dtype: float64"
      ]
     },
     "execution_count": 69,
     "metadata": {},
     "output_type": "execute_result"
    }
   ],
   "source": [
    "value[['canceled', 'unavailable']].mean().round()"
   ]
  },
  {
   "cell_type": "markdown",
   "metadata": {},
   "source": [
    "## 3. По каждому товару определить, в какой день недели товар чаще всего покупается."
   ]
  },
  {
   "cell_type": "code",
   "execution_count": 70,
   "metadata": {},
   "outputs": [],
   "source": [
    "items_orders = items_df.merge(orders_df, how='left', on='order_id')"
   ]
  },
  {
   "cell_type": "code",
   "execution_count": 71,
   "metadata": {},
   "outputs": [
    {
     "data": {
      "text/html": [
       "<div>\n",
       "<style scoped>\n",
       "    .dataframe tbody tr th:only-of-type {\n",
       "        vertical-align: middle;\n",
       "    }\n",
       "\n",
       "    .dataframe tbody tr th {\n",
       "        vertical-align: top;\n",
       "    }\n",
       "\n",
       "    .dataframe thead th {\n",
       "        text-align: right;\n",
       "    }\n",
       "</style>\n",
       "<table border=\"1\" class=\"dataframe\">\n",
       "  <thead>\n",
       "    <tr style=\"text-align: right;\">\n",
       "      <th></th>\n",
       "      <th>order_id</th>\n",
       "      <th>order_item_id</th>\n",
       "      <th>product_id</th>\n",
       "      <th>seller_id</th>\n",
       "      <th>shipping_limit_date</th>\n",
       "      <th>price</th>\n",
       "      <th>freight_value</th>\n",
       "      <th>customer_id</th>\n",
       "      <th>order_status</th>\n",
       "      <th>order_purchase_timestamp</th>\n",
       "      <th>order_approved_at</th>\n",
       "      <th>order_delivered_carrier_date</th>\n",
       "      <th>order_delivered_customer_date</th>\n",
       "      <th>order_estimated_delivery_date</th>\n",
       "    </tr>\n",
       "  </thead>\n",
       "  <tbody>\n",
       "    <tr>\n",
       "      <th>0</th>\n",
       "      <td>00010242fe8c5a6d1ba2dd792cb16214</td>\n",
       "      <td>1</td>\n",
       "      <td>4244733e06e7ecb4970a6e2683c13e61</td>\n",
       "      <td>48436dade18ac8b2bce089ec2a041202</td>\n",
       "      <td>2017-09-19 09:45:35</td>\n",
       "      <td>58.9</td>\n",
       "      <td>13.29</td>\n",
       "      <td>3ce436f183e68e07877b285a838db11a</td>\n",
       "      <td>delivered</td>\n",
       "      <td>2017-09-13 08:59:02</td>\n",
       "      <td>2017-09-13 09:45:35</td>\n",
       "      <td>2017-09-19 18:34:16</td>\n",
       "      <td>2017-09-20 23:43:48</td>\n",
       "      <td>2017-09-29</td>\n",
       "    </tr>\n",
       "    <tr>\n",
       "      <th>1</th>\n",
       "      <td>00018f77f2f0320c557190d7a144bdd3</td>\n",
       "      <td>1</td>\n",
       "      <td>e5f2d52b802189ee658865ca93d83a8f</td>\n",
       "      <td>dd7ddc04e1b6c2c614352b383efe2d36</td>\n",
       "      <td>2017-05-03 11:05:13</td>\n",
       "      <td>239.9</td>\n",
       "      <td>19.93</td>\n",
       "      <td>f6dd3ec061db4e3987629fe6b26e5cce</td>\n",
       "      <td>delivered</td>\n",
       "      <td>2017-04-26 10:53:06</td>\n",
       "      <td>2017-04-26 11:05:13</td>\n",
       "      <td>2017-05-04 14:35:00</td>\n",
       "      <td>2017-05-12 16:04:24</td>\n",
       "      <td>2017-05-15</td>\n",
       "    </tr>\n",
       "    <tr>\n",
       "      <th>2</th>\n",
       "      <td>000229ec398224ef6ca0657da4fc703e</td>\n",
       "      <td>1</td>\n",
       "      <td>c777355d18b72b67abbeef9df44fd0fd</td>\n",
       "      <td>5b51032eddd242adc84c38acab88f23d</td>\n",
       "      <td>2018-01-18 14:48:30</td>\n",
       "      <td>199.0</td>\n",
       "      <td>17.87</td>\n",
       "      <td>6489ae5e4333f3693df5ad4372dab6d3</td>\n",
       "      <td>delivered</td>\n",
       "      <td>2018-01-14 14:33:31</td>\n",
       "      <td>2018-01-14 14:48:30</td>\n",
       "      <td>2018-01-16 12:36:48</td>\n",
       "      <td>2018-01-22 13:19:16</td>\n",
       "      <td>2018-02-05</td>\n",
       "    </tr>\n",
       "  </tbody>\n",
       "</table>\n",
       "</div>"
      ],
      "text/plain": [
       "                           order_id  order_item_id  \\\n",
       "0  00010242fe8c5a6d1ba2dd792cb16214              1   \n",
       "1  00018f77f2f0320c557190d7a144bdd3              1   \n",
       "2  000229ec398224ef6ca0657da4fc703e              1   \n",
       "\n",
       "                         product_id                         seller_id  \\\n",
       "0  4244733e06e7ecb4970a6e2683c13e61  48436dade18ac8b2bce089ec2a041202   \n",
       "1  e5f2d52b802189ee658865ca93d83a8f  dd7ddc04e1b6c2c614352b383efe2d36   \n",
       "2  c777355d18b72b67abbeef9df44fd0fd  5b51032eddd242adc84c38acab88f23d   \n",
       "\n",
       "  shipping_limit_date  price  freight_value                       customer_id  \\\n",
       "0 2017-09-19 09:45:35   58.9          13.29  3ce436f183e68e07877b285a838db11a   \n",
       "1 2017-05-03 11:05:13  239.9          19.93  f6dd3ec061db4e3987629fe6b26e5cce   \n",
       "2 2018-01-18 14:48:30  199.0          17.87  6489ae5e4333f3693df5ad4372dab6d3   \n",
       "\n",
       "  order_status order_purchase_timestamp   order_approved_at  \\\n",
       "0    delivered      2017-09-13 08:59:02 2017-09-13 09:45:35   \n",
       "1    delivered      2017-04-26 10:53:06 2017-04-26 11:05:13   \n",
       "2    delivered      2018-01-14 14:33:31 2018-01-14 14:48:30   \n",
       "\n",
       "  order_delivered_carrier_date order_delivered_customer_date  \\\n",
       "0          2017-09-19 18:34:16           2017-09-20 23:43:48   \n",
       "1          2017-05-04 14:35:00           2017-05-12 16:04:24   \n",
       "2          2018-01-16 12:36:48           2018-01-22 13:19:16   \n",
       "\n",
       "  order_estimated_delivery_date  \n",
       "0                    2017-09-29  \n",
       "1                    2017-05-15  \n",
       "2                    2018-02-05  "
      ]
     },
     "execution_count": 71,
     "metadata": {},
     "output_type": "execute_result"
    }
   ],
   "source": [
    "items_orders.head(3)"
   ]
  },
  {
   "cell_type": "code",
   "execution_count": 72,
   "metadata": {},
   "outputs": [],
   "source": [
    "items_orders['day'] = items_orders['order_approved_at'].dt.day_name()"
   ]
  },
  {
   "cell_type": "code",
   "execution_count": 73,
   "metadata": {},
   "outputs": [
    {
     "data": {
      "text/html": [
       "<div>\n",
       "<style scoped>\n",
       "    .dataframe tbody tr th:only-of-type {\n",
       "        vertical-align: middle;\n",
       "    }\n",
       "\n",
       "    .dataframe tbody tr th {\n",
       "        vertical-align: top;\n",
       "    }\n",
       "\n",
       "    .dataframe thead th {\n",
       "        text-align: right;\n",
       "    }\n",
       "</style>\n",
       "<table border=\"1\" class=\"dataframe\">\n",
       "  <thead>\n",
       "    <tr style=\"text-align: right;\">\n",
       "      <th></th>\n",
       "      <th>product_id</th>\n",
       "      <th>day</th>\n",
       "      <th>customer_id</th>\n",
       "    </tr>\n",
       "  </thead>\n",
       "  <tbody>\n",
       "    <tr>\n",
       "      <th>41082</th>\n",
       "      <td>aca2eb7d00ea1a7b8ebd4e68314663af</td>\n",
       "      <td>Tuesday</td>\n",
       "      <td>119</td>\n",
       "    </tr>\n",
       "    <tr>\n",
       "      <th>20152</th>\n",
       "      <td>53b36df67ebb7c41585e8d54d6772e08</td>\n",
       "      <td>Tuesday</td>\n",
       "      <td>105</td>\n",
       "    </tr>\n",
       "    <tr>\n",
       "      <th>15933</th>\n",
       "      <td>422879e10f46682990de24d770e7f83d</td>\n",
       "      <td>Tuesday</td>\n",
       "      <td>89</td>\n",
       "    </tr>\n",
       "    <tr>\n",
       "      <th>36574</th>\n",
       "      <td>99a4788cb24856965c36a24e339b6058</td>\n",
       "      <td>Tuesday</td>\n",
       "      <td>82</td>\n",
       "    </tr>\n",
       "    <tr>\n",
       "      <th>13060</th>\n",
       "      <td>368c6c730842d78016ad823897a372db</td>\n",
       "      <td>Thursday</td>\n",
       "      <td>80</td>\n",
       "    </tr>\n",
       "    <tr>\n",
       "      <th>...</th>\n",
       "      <td>...</td>\n",
       "      <td>...</td>\n",
       "      <td>...</td>\n",
       "    </tr>\n",
       "    <tr>\n",
       "      <th>23976</th>\n",
       "      <td>63dfa8b12200610ed7b5e41d3c888a25</td>\n",
       "      <td>Saturday</td>\n",
       "      <td>1</td>\n",
       "    </tr>\n",
       "    <tr>\n",
       "      <th>23980</th>\n",
       "      <td>63e51e65ec59b56039c6427eed73dcf0</td>\n",
       "      <td>Tuesday</td>\n",
       "      <td>1</td>\n",
       "    </tr>\n",
       "    <tr>\n",
       "      <th>23981</th>\n",
       "      <td>63eb97106bfe47fe857edcf78f3e3e08</td>\n",
       "      <td>Saturday</td>\n",
       "      <td>1</td>\n",
       "    </tr>\n",
       "    <tr>\n",
       "      <th>23991</th>\n",
       "      <td>63f52009dc3ddb733394e80183aed0f0</td>\n",
       "      <td>Saturday</td>\n",
       "      <td>1</td>\n",
       "    </tr>\n",
       "    <tr>\n",
       "      <th>61142</th>\n",
       "      <td>fffe9eeff12fcbd74a2f2b007dde0c58</td>\n",
       "      <td>Wednesday</td>\n",
       "      <td>1</td>\n",
       "    </tr>\n",
       "  </tbody>\n",
       "</table>\n",
       "<p>32948 rows × 3 columns</p>\n",
       "</div>"
      ],
      "text/plain": [
       "                             product_id        day  customer_id\n",
       "41082  aca2eb7d00ea1a7b8ebd4e68314663af    Tuesday          119\n",
       "20152  53b36df67ebb7c41585e8d54d6772e08    Tuesday          105\n",
       "15933  422879e10f46682990de24d770e7f83d    Tuesday           89\n",
       "36574  99a4788cb24856965c36a24e339b6058    Tuesday           82\n",
       "13060  368c6c730842d78016ad823897a372db   Thursday           80\n",
       "...                                 ...        ...          ...\n",
       "23976  63dfa8b12200610ed7b5e41d3c888a25   Saturday            1\n",
       "23980  63e51e65ec59b56039c6427eed73dcf0    Tuesday            1\n",
       "23981  63eb97106bfe47fe857edcf78f3e3e08   Saturday            1\n",
       "23991  63f52009dc3ddb733394e80183aed0f0   Saturday            1\n",
       "61142  fffe9eeff12fcbd74a2f2b007dde0c58  Wednesday            1\n",
       "\n",
       "[32948 rows x 3 columns]"
      ]
     },
     "execution_count": 73,
     "metadata": {},
     "output_type": "execute_result"
    }
   ],
   "source": [
    "items_orders.groupby([\"product_id\", \"day\"], as_index=False) \\\n",
    "    .agg({\"customer_id\": \"count\"}) \\\n",
    "    .sort_values(by=\"customer_id\", ascending=False) \\\n",
    "    .drop_duplicates(subset='product_id')"
   ]
  },
  {
   "cell_type": "markdown",
   "metadata": {},
   "source": [
    "#### Вывод:\n",
    "Получили таблицу на 32 948 строк, с разбивкой по дням недели и количеством пользователей совершивших покупки в этот день, в качестве маркера использовали product_id, что и позволило сделать такую разбивку."
   ]
  },
  {
   "cell_type": "markdown",
   "metadata": {
    "scrolled": true
   },
   "source": [
    "## 4. Сколько у каждого из пользователей в среднем покупок в неделю (по месяцам)? "
   ]
  },
  {
   "cell_type": "code",
   "execution_count": 74,
   "metadata": {},
   "outputs": [],
   "source": [
    "cust_order = customers_df[['customer_id', 'customer_unique_id']] \\\n",
    "                            .merge(orders_df[['order_approved_at', 'customer_id']], on='customer_id') \\\n",
    "                            .dropna() \\\n",
    "                            .sort_values('order_approved_at')"
   ]
  },
  {
   "cell_type": "code",
   "execution_count": 75,
   "metadata": {},
   "outputs": [
    {
     "data": {
      "text/html": [
       "<div>\n",
       "<style scoped>\n",
       "    .dataframe tbody tr th:only-of-type {\n",
       "        vertical-align: middle;\n",
       "    }\n",
       "\n",
       "    .dataframe tbody tr th {\n",
       "        vertical-align: top;\n",
       "    }\n",
       "\n",
       "    .dataframe thead th {\n",
       "        text-align: right;\n",
       "    }\n",
       "</style>\n",
       "<table border=\"1\" class=\"dataframe\">\n",
       "  <thead>\n",
       "    <tr style=\"text-align: right;\">\n",
       "      <th></th>\n",
       "      <th>customer_id</th>\n",
       "      <th>customer_unique_id</th>\n",
       "      <th>order_approved_at</th>\n",
       "    </tr>\n",
       "  </thead>\n",
       "  <tbody>\n",
       "    <tr>\n",
       "      <th>21125</th>\n",
       "      <td>86dc2ffce2dfff336de2f386a786e574</td>\n",
       "      <td>830d5b7aaa3b6f1e9ad63703bec97d23</td>\n",
       "      <td>2016-09-15 12:16:38</td>\n",
       "    </tr>\n",
       "    <tr>\n",
       "      <th>17531</th>\n",
       "      <td>b3a9bf200375f53cc5c6991919c356fd</td>\n",
       "      <td>14359ea0c7a105749c0a56478825b015</td>\n",
       "      <td>2016-10-04 09:43:32</td>\n",
       "    </tr>\n",
       "    <tr>\n",
       "      <th>59705</th>\n",
       "      <td>70fc57eeae292675927697fe03ad3ff5</td>\n",
       "      <td>b8b8726af116a5cfb35b0315ecef9172</td>\n",
       "      <td>2016-10-04 10:18:57</td>\n",
       "    </tr>\n",
       "    <tr>\n",
       "      <th>19876</th>\n",
       "      <td>7812fcebfc5e8065d31e1bb5f0017dae</td>\n",
       "      <td>87776adb449c551e74c13fc34f036105</td>\n",
       "      <td>2016-10-04 10:19:23</td>\n",
       "    </tr>\n",
       "    <tr>\n",
       "      <th>21796</th>\n",
       "      <td>da0ba2a9935bca5b4610b0e3bca9d3b4</td>\n",
       "      <td>88bc832f104b6dd684a17dbb1b76e778</td>\n",
       "      <td>2016-10-04 10:25:46</td>\n",
       "    </tr>\n",
       "    <tr>\n",
       "      <th>...</th>\n",
       "      <td>...</td>\n",
       "      <td>...</td>\n",
       "      <td>...</td>\n",
       "    </tr>\n",
       "    <tr>\n",
       "      <th>495</th>\n",
       "      <td>6e353700bc7bcdf6ebc15d6de16d7002</td>\n",
       "      <td>7febafa06d9d8f232a900a2937f04338</td>\n",
       "      <td>2018-08-29 14:30:23</td>\n",
       "    </tr>\n",
       "    <tr>\n",
       "      <th>84603</th>\n",
       "      <td>e60df9449653a95af4549bbfcb18a6eb</td>\n",
       "      <td>5c58de6fb80e93396e2f35642666b693</td>\n",
       "      <td>2018-08-29 14:31:07</td>\n",
       "    </tr>\n",
       "    <tr>\n",
       "      <th>49885</th>\n",
       "      <td>496630b6740bcca28fce9ba50d8a26ef</td>\n",
       "      <td>b701bebbdf478f5500348f03aff62121</td>\n",
       "      <td>2018-08-29 15:05:22</td>\n",
       "    </tr>\n",
       "    <tr>\n",
       "      <th>67281</th>\n",
       "      <td>898b7fee99c4e42170ab69ba59be0a8b</td>\n",
       "      <td>24ac2b4327e25baf39f2119e4228976a</td>\n",
       "      <td>2018-08-29 15:10:26</td>\n",
       "    </tr>\n",
       "    <tr>\n",
       "      <th>66296</th>\n",
       "      <td>4b7decb9b58e2569548b8b4c8e20e8d7</td>\n",
       "      <td>ff22e30958c13ffe219db7d711e8f564</td>\n",
       "      <td>2018-09-03 17:40:06</td>\n",
       "    </tr>\n",
       "  </tbody>\n",
       "</table>\n",
       "<p>99281 rows × 3 columns</p>\n",
       "</div>"
      ],
      "text/plain": [
       "                            customer_id                customer_unique_id  \\\n",
       "21125  86dc2ffce2dfff336de2f386a786e574  830d5b7aaa3b6f1e9ad63703bec97d23   \n",
       "17531  b3a9bf200375f53cc5c6991919c356fd  14359ea0c7a105749c0a56478825b015   \n",
       "59705  70fc57eeae292675927697fe03ad3ff5  b8b8726af116a5cfb35b0315ecef9172   \n",
       "19876  7812fcebfc5e8065d31e1bb5f0017dae  87776adb449c551e74c13fc34f036105   \n",
       "21796  da0ba2a9935bca5b4610b0e3bca9d3b4  88bc832f104b6dd684a17dbb1b76e778   \n",
       "...                                 ...                               ...   \n",
       "495    6e353700bc7bcdf6ebc15d6de16d7002  7febafa06d9d8f232a900a2937f04338   \n",
       "84603  e60df9449653a95af4549bbfcb18a6eb  5c58de6fb80e93396e2f35642666b693   \n",
       "49885  496630b6740bcca28fce9ba50d8a26ef  b701bebbdf478f5500348f03aff62121   \n",
       "67281  898b7fee99c4e42170ab69ba59be0a8b  24ac2b4327e25baf39f2119e4228976a   \n",
       "66296  4b7decb9b58e2569548b8b4c8e20e8d7  ff22e30958c13ffe219db7d711e8f564   \n",
       "\n",
       "        order_approved_at  \n",
       "21125 2016-09-15 12:16:38  \n",
       "17531 2016-10-04 09:43:32  \n",
       "59705 2016-10-04 10:18:57  \n",
       "19876 2016-10-04 10:19:23  \n",
       "21796 2016-10-04 10:25:46  \n",
       "...                   ...  \n",
       "495   2018-08-29 14:30:23  \n",
       "84603 2018-08-29 14:31:07  \n",
       "49885 2018-08-29 15:05:22  \n",
       "67281 2018-08-29 15:10:26  \n",
       "66296 2018-09-03 17:40:06  \n",
       "\n",
       "[99281 rows x 3 columns]"
      ]
     },
     "execution_count": 75,
     "metadata": {},
     "output_type": "execute_result"
    }
   ],
   "source": [
    "cust_order"
   ]
  },
  {
   "cell_type": "markdown",
   "metadata": {},
   "source": [
    "#### Приводим колнку к виду ГГГГ-ММ."
   ]
  },
  {
   "cell_type": "code",
   "execution_count": 76,
   "metadata": {},
   "outputs": [],
   "source": [
    "cust_order['year_month'] = cust_order[\"order_approved_at\"].dt.to_period(\"M\")"
   ]
  },
  {
   "cell_type": "markdown",
   "metadata": {},
   "source": [
    "#### Считаем количества недель в месяц."
   ]
  },
  {
   "cell_type": "code",
   "execution_count": 77,
   "metadata": {},
   "outputs": [],
   "source": [
    "cust_order['weeks'] = cust_order.year_month.dt.days_in_month / 7"
   ]
  },
  {
   "cell_type": "markdown",
   "metadata": {},
   "source": [
    "#### Группируем данные для расчета среднего кол-ва выполненых заказов."
   ]
  },
  {
   "cell_type": "code",
   "execution_count": 78,
   "metadata": {},
   "outputs": [],
   "source": [
    "cust_order = cust_order \\\n",
    "    .groupby(['customer_unique_id','year_month','weeks'], as_index=False) \\\n",
    "    .agg({'customer_id':'count'}) \\\n",
    "    .groupby(['customer_unique_id','year_month','weeks'],as_index=False) \\\n",
    "    .agg({'customer_id':'sum'})"
   ]
  },
  {
   "cell_type": "markdown",
   "metadata": {},
   "source": [
    "#### Выявляем среднее кол-во покупок."
   ]
  },
  {
   "cell_type": "code",
   "execution_count": 79,
   "metadata": {},
   "outputs": [],
   "source": [
    "cust_order['avg'] = cust_order.customer_id / cust_order.weeks"
   ]
  },
  {
   "cell_type": "code",
   "execution_count": 80,
   "metadata": {},
   "outputs": [
    {
     "data": {
      "text/html": [
       "<div>\n",
       "<style scoped>\n",
       "    .dataframe tbody tr th:only-of-type {\n",
       "        vertical-align: middle;\n",
       "    }\n",
       "\n",
       "    .dataframe tbody tr th {\n",
       "        vertical-align: top;\n",
       "    }\n",
       "\n",
       "    .dataframe thead th {\n",
       "        text-align: right;\n",
       "    }\n",
       "</style>\n",
       "<table border=\"1\" class=\"dataframe\">\n",
       "  <thead>\n",
       "    <tr style=\"text-align: right;\">\n",
       "      <th></th>\n",
       "      <th>customer_unique_id</th>\n",
       "      <th>year_month</th>\n",
       "      <th>weeks</th>\n",
       "      <th>customer_id</th>\n",
       "      <th>avg</th>\n",
       "    </tr>\n",
       "  </thead>\n",
       "  <tbody>\n",
       "    <tr>\n",
       "      <th>0</th>\n",
       "      <td>0000366f3b9a7992bf8c76cfdf3221e2</td>\n",
       "      <td>2018-05</td>\n",
       "      <td>4.428571</td>\n",
       "      <td>1</td>\n",
       "      <td>0.225806</td>\n",
       "    </tr>\n",
       "    <tr>\n",
       "      <th>1</th>\n",
       "      <td>0000b849f77a49e4a4ce2b2a4ca5be3f</td>\n",
       "      <td>2018-05</td>\n",
       "      <td>4.428571</td>\n",
       "      <td>1</td>\n",
       "      <td>0.225806</td>\n",
       "    </tr>\n",
       "    <tr>\n",
       "      <th>2</th>\n",
       "      <td>0000f46a3911fa3c0805444483337064</td>\n",
       "      <td>2017-03</td>\n",
       "      <td>4.428571</td>\n",
       "      <td>1</td>\n",
       "      <td>0.225806</td>\n",
       "    </tr>\n",
       "    <tr>\n",
       "      <th>3</th>\n",
       "      <td>0000f6ccb0745a6a4b88665a16c9f078</td>\n",
       "      <td>2017-10</td>\n",
       "      <td>4.428571</td>\n",
       "      <td>1</td>\n",
       "      <td>0.225806</td>\n",
       "    </tr>\n",
       "    <tr>\n",
       "      <th>4</th>\n",
       "      <td>0004aac84e0df4da2b147fca70cf8255</td>\n",
       "      <td>2017-11</td>\n",
       "      <td>4.285714</td>\n",
       "      <td>1</td>\n",
       "      <td>0.233333</td>\n",
       "    </tr>\n",
       "  </tbody>\n",
       "</table>\n",
       "</div>"
      ],
      "text/plain": [
       "                 customer_unique_id year_month     weeks  customer_id  \\\n",
       "0  0000366f3b9a7992bf8c76cfdf3221e2    2018-05  4.428571            1   \n",
       "1  0000b849f77a49e4a4ce2b2a4ca5be3f    2018-05  4.428571            1   \n",
       "2  0000f46a3911fa3c0805444483337064    2017-03  4.428571            1   \n",
       "3  0000f6ccb0745a6a4b88665a16c9f078    2017-10  4.428571            1   \n",
       "4  0004aac84e0df4da2b147fca70cf8255    2017-11  4.285714            1   \n",
       "\n",
       "        avg  \n",
       "0  0.225806  \n",
       "1  0.225806  \n",
       "2  0.225806  \n",
       "3  0.225806  \n",
       "4  0.233333  "
      ]
     },
     "execution_count": 80,
     "metadata": {},
     "output_type": "execute_result"
    }
   ],
   "source": [
    "cust_order.head()"
   ]
  },
  {
   "cell_type": "markdown",
   "metadata": {},
   "source": [
    "#### Вывод: \n",
    "Получили таблицу с количеством недель в месяц и средним значением покупок в неделю."
   ]
  },
  {
   "cell_type": "markdown",
   "metadata": {},
   "source": [
    "## 5. Используя pandas, проведи когортный анализ пользователей. \n",
    "#### В период с января по декабрь выяви когорту с самым высоким retention на 3й месяц. "
   ]
  },
  {
   "cell_type": "code",
   "execution_count": 315,
   "metadata": {},
   "outputs": [],
   "source": [
    "df_oc = orders_df.merge(customers_df, how='inner', on='customer_id')"
   ]
  },
  {
   "cell_type": "code",
   "execution_count": 539,
   "metadata": {},
   "outputs": [],
   "source": [
    "# Создадим отдельный датафрейм под нашу задачу, т.к. все колонки для нас не нужны.\n",
    "df_sss = df_oc[['customer_id', 'customer_unique_id', 'order_approved_at']]"
   ]
  },
  {
   "cell_type": "markdown",
   "metadata": {},
   "source": [
    "#### Строить когорты будем исходя из определения покупки. \n",
    "Покупками мы считали все заказы которые имеют оплату, используем колонку order_approved_at, проверим ее на пустые значения и если такие будут, то от них мы избавимся и приступим к построению когорт."
   ]
  },
  {
   "cell_type": "code",
   "execution_count": 540,
   "metadata": {},
   "outputs": [
    {
     "name": "stdout",
     "output_type": "stream",
     "text": [
      "<class 'pandas.core.frame.DataFrame'>\n",
      "Int64Index: 99441 entries, 0 to 99440\n",
      "Data columns (total 3 columns):\n",
      " #   Column              Non-Null Count  Dtype         \n",
      "---  ------              --------------  -----         \n",
      " 0   customer_id         99441 non-null  object        \n",
      " 1   customer_unique_id  99441 non-null  object        \n",
      " 2   order_approved_at   99281 non-null  datetime64[ns]\n",
      "dtypes: datetime64[ns](1), object(2)\n",
      "memory usage: 3.0+ MB\n"
     ]
    }
   ],
   "source": [
    "df_sss.info()"
   ]
  },
  {
   "cell_type": "code",
   "execution_count": 541,
   "metadata": {},
   "outputs": [
    {
     "data": {
      "text/plain": [
       "customer_id             0\n",
       "customer_unique_id      0\n",
       "order_approved_at     160\n",
       "dtype: int64"
      ]
     },
     "execution_count": 541,
     "metadata": {},
     "output_type": "execute_result"
    }
   ],
   "source": [
    "df_sss.isna().sum()"
   ]
  },
  {
   "cell_type": "markdown",
   "metadata": {},
   "source": [
    "#### Мы избавились от пустых значений."
   ]
  },
  {
   "cell_type": "code",
   "execution_count": 542,
   "metadata": {},
   "outputs": [],
   "source": [
    "df_sss = df.dropna()"
   ]
  },
  {
   "cell_type": "code",
   "execution_count": 543,
   "metadata": {},
   "outputs": [
    {
     "data": {
      "text/html": [
       "<div>\n",
       "<style scoped>\n",
       "    .dataframe tbody tr th:only-of-type {\n",
       "        vertical-align: middle;\n",
       "    }\n",
       "\n",
       "    .dataframe tbody tr th {\n",
       "        vertical-align: top;\n",
       "    }\n",
       "\n",
       "    .dataframe thead th {\n",
       "        text-align: right;\n",
       "    }\n",
       "</style>\n",
       "<table border=\"1\" class=\"dataframe\">\n",
       "  <thead>\n",
       "    <tr style=\"text-align: right;\">\n",
       "      <th></th>\n",
       "      <th>customer_id</th>\n",
       "      <th>customer_unique_id</th>\n",
       "      <th>order_approved_at</th>\n",
       "    </tr>\n",
       "  </thead>\n",
       "  <tbody>\n",
       "    <tr>\n",
       "      <th>0</th>\n",
       "      <td>9ef432eb6251297304e76186b10a928d</td>\n",
       "      <td>7c396fd4830fd04220f754e42b4e5bff</td>\n",
       "      <td>2017-10-02 11:07:15</td>\n",
       "    </tr>\n",
       "    <tr>\n",
       "      <th>1</th>\n",
       "      <td>b0830fb4747a6c6d20dea0b8c802d7ef</td>\n",
       "      <td>af07308b275d755c9edb36a90c618231</td>\n",
       "      <td>2018-07-26 03:24:27</td>\n",
       "    </tr>\n",
       "    <tr>\n",
       "      <th>2</th>\n",
       "      <td>41ce2a54c0b03bf3443c3d931a367089</td>\n",
       "      <td>3a653a41f6f9fc3d2a113cf8398680e8</td>\n",
       "      <td>2018-08-08 08:55:23</td>\n",
       "    </tr>\n",
       "    <tr>\n",
       "      <th>3</th>\n",
       "      <td>f88197465ea7920adcdbec7375364d82</td>\n",
       "      <td>7c142cf63193a1473d2e66489a9ae977</td>\n",
       "      <td>2017-11-18 19:45:59</td>\n",
       "    </tr>\n",
       "    <tr>\n",
       "      <th>4</th>\n",
       "      <td>8ab97904e6daea8866dbdbc4fb7aad2c</td>\n",
       "      <td>72632f0f9dd73dfee390c9b22eb56dd6</td>\n",
       "      <td>2018-02-13 22:20:29</td>\n",
       "    </tr>\n",
       "    <tr>\n",
       "      <th>...</th>\n",
       "      <td>...</td>\n",
       "      <td>...</td>\n",
       "      <td>...</td>\n",
       "    </tr>\n",
       "    <tr>\n",
       "      <th>99436</th>\n",
       "      <td>39bd1228ee8140590ac3aca26f2dfe00</td>\n",
       "      <td>6359f309b166b0196dbf7ad2ac62bb5a</td>\n",
       "      <td>2017-03-09 09:54:05</td>\n",
       "    </tr>\n",
       "    <tr>\n",
       "      <th>99437</th>\n",
       "      <td>1fca14ff2861355f6e5f14306ff977a7</td>\n",
       "      <td>da62f9e57a76d978d02ab5362c509660</td>\n",
       "      <td>2018-02-06 13:10:37</td>\n",
       "    </tr>\n",
       "    <tr>\n",
       "      <th>99438</th>\n",
       "      <td>1aa71eb042121263aafbe80c1b562c9c</td>\n",
       "      <td>737520a9aad80b3fbbdad19b66b37b30</td>\n",
       "      <td>2017-08-27 15:04:16</td>\n",
       "    </tr>\n",
       "    <tr>\n",
       "      <th>99439</th>\n",
       "      <td>b331b74b18dc79bcdf6532d51e1637c1</td>\n",
       "      <td>5097a5312c8b157bb7be58ae360ef43c</td>\n",
       "      <td>2018-01-08 21:36:21</td>\n",
       "    </tr>\n",
       "    <tr>\n",
       "      <th>99440</th>\n",
       "      <td>edb027a75a1449115f6b43211ae02a24</td>\n",
       "      <td>60350aa974b26ff12caad89e55993bd6</td>\n",
       "      <td>2018-03-09 11:20:28</td>\n",
       "    </tr>\n",
       "  </tbody>\n",
       "</table>\n",
       "<p>99281 rows × 3 columns</p>\n",
       "</div>"
      ],
      "text/plain": [
       "                            customer_id                customer_unique_id  \\\n",
       "0      9ef432eb6251297304e76186b10a928d  7c396fd4830fd04220f754e42b4e5bff   \n",
       "1      b0830fb4747a6c6d20dea0b8c802d7ef  af07308b275d755c9edb36a90c618231   \n",
       "2      41ce2a54c0b03bf3443c3d931a367089  3a653a41f6f9fc3d2a113cf8398680e8   \n",
       "3      f88197465ea7920adcdbec7375364d82  7c142cf63193a1473d2e66489a9ae977   \n",
       "4      8ab97904e6daea8866dbdbc4fb7aad2c  72632f0f9dd73dfee390c9b22eb56dd6   \n",
       "...                                 ...                               ...   \n",
       "99436  39bd1228ee8140590ac3aca26f2dfe00  6359f309b166b0196dbf7ad2ac62bb5a   \n",
       "99437  1fca14ff2861355f6e5f14306ff977a7  da62f9e57a76d978d02ab5362c509660   \n",
       "99438  1aa71eb042121263aafbe80c1b562c9c  737520a9aad80b3fbbdad19b66b37b30   \n",
       "99439  b331b74b18dc79bcdf6532d51e1637c1  5097a5312c8b157bb7be58ae360ef43c   \n",
       "99440  edb027a75a1449115f6b43211ae02a24  60350aa974b26ff12caad89e55993bd6   \n",
       "\n",
       "        order_approved_at  \n",
       "0     2017-10-02 11:07:15  \n",
       "1     2018-07-26 03:24:27  \n",
       "2     2018-08-08 08:55:23  \n",
       "3     2017-11-18 19:45:59  \n",
       "4     2018-02-13 22:20:29  \n",
       "...                   ...  \n",
       "99436 2017-03-09 09:54:05  \n",
       "99437 2018-02-06 13:10:37  \n",
       "99438 2017-08-27 15:04:16  \n",
       "99439 2018-01-08 21:36:21  \n",
       "99440 2018-03-09 11:20:28  \n",
       "\n",
       "[99281 rows x 3 columns]"
      ]
     },
     "execution_count": 543,
     "metadata": {},
     "output_type": "execute_result"
    }
   ],
   "source": [
    "df_sss"
   ]
  },
  {
   "cell_type": "code",
   "execution_count": 544,
   "metadata": {},
   "outputs": [
    {
     "data": {
      "text/html": [
       "<div>\n",
       "<style scoped>\n",
       "    .dataframe tbody tr th:only-of-type {\n",
       "        vertical-align: middle;\n",
       "    }\n",
       "\n",
       "    .dataframe tbody tr th {\n",
       "        vertical-align: top;\n",
       "    }\n",
       "\n",
       "    .dataframe thead th {\n",
       "        text-align: right;\n",
       "    }\n",
       "</style>\n",
       "<table border=\"1\" class=\"dataframe\">\n",
       "  <thead>\n",
       "    <tr style=\"text-align: right;\">\n",
       "      <th></th>\n",
       "      <th>customer_id</th>\n",
       "      <th>customer_unique_id</th>\n",
       "      <th>order_approved_at</th>\n",
       "    </tr>\n",
       "  </thead>\n",
       "  <tbody>\n",
       "    <tr>\n",
       "      <th>62360</th>\n",
       "      <td>4b7decb9b58e2569548b8b4c8e20e8d7</td>\n",
       "      <td>ff22e30958c13ffe219db7d711e8f564</td>\n",
       "      <td>2018-09-03 17:40:06</td>\n",
       "    </tr>\n",
       "    <tr>\n",
       "      <th>88097</th>\n",
       "      <td>898b7fee99c4e42170ab69ba59be0a8b</td>\n",
       "      <td>24ac2b4327e25baf39f2119e4228976a</td>\n",
       "      <td>2018-08-29 15:10:26</td>\n",
       "    </tr>\n",
       "    <tr>\n",
       "      <th>69678</th>\n",
       "      <td>496630b6740bcca28fce9ba50d8a26ef</td>\n",
       "      <td>b701bebbdf478f5500348f03aff62121</td>\n",
       "      <td>2018-08-29 15:05:22</td>\n",
       "    </tr>\n",
       "    <tr>\n",
       "      <th>30077</th>\n",
       "      <td>e60df9449653a95af4549bbfcb18a6eb</td>\n",
       "      <td>5c58de6fb80e93396e2f35642666b693</td>\n",
       "      <td>2018-08-29 14:31:07</td>\n",
       "    </tr>\n",
       "    <tr>\n",
       "      <th>31486</th>\n",
       "      <td>6e353700bc7bcdf6ebc15d6de16d7002</td>\n",
       "      <td>7febafa06d9d8f232a900a2937f04338</td>\n",
       "      <td>2018-08-29 14:30:23</td>\n",
       "    </tr>\n",
       "  </tbody>\n",
       "</table>\n",
       "</div>"
      ],
      "text/plain": [
       "                            customer_id                customer_unique_id  \\\n",
       "62360  4b7decb9b58e2569548b8b4c8e20e8d7  ff22e30958c13ffe219db7d711e8f564   \n",
       "88097  898b7fee99c4e42170ab69ba59be0a8b  24ac2b4327e25baf39f2119e4228976a   \n",
       "69678  496630b6740bcca28fce9ba50d8a26ef  b701bebbdf478f5500348f03aff62121   \n",
       "30077  e60df9449653a95af4549bbfcb18a6eb  5c58de6fb80e93396e2f35642666b693   \n",
       "31486  6e353700bc7bcdf6ebc15d6de16d7002  7febafa06d9d8f232a900a2937f04338   \n",
       "\n",
       "        order_approved_at  \n",
       "62360 2018-09-03 17:40:06  \n",
       "88097 2018-08-29 15:10:26  \n",
       "69678 2018-08-29 15:05:22  \n",
       "30077 2018-08-29 14:31:07  \n",
       "31486 2018-08-29 14:30:23  "
      ]
     },
     "execution_count": 544,
     "metadata": {},
     "output_type": "execute_result"
    }
   ],
   "source": [
    "# Сортируем по дате\n",
    "df_sss = df_sss.sort_values('order_approved_at', ascending=False)\n",
    "df_sss.head()"
   ]
  },
  {
   "cell_type": "code",
   "execution_count": 545,
   "metadata": {},
   "outputs": [],
   "source": [
    "# Переведем формат коллонки даты в месяц \n",
    "df_sss.order_approved_at = df_sss.order_approved_at.dt.to_period('M')"
   ]
  },
  {
   "cell_type": "code",
   "execution_count": 546,
   "metadata": {},
   "outputs": [],
   "source": [
    "# Создадим коллонку с датой первого заказа\n",
    "first_buy = df_sss.groupby('customer_unique_id', as_index=False).agg({'order_approved_at' : 'first'})"
   ]
  },
  {
   "cell_type": "code",
   "execution_count": 547,
   "metadata": {},
   "outputs": [],
   "source": [
    "# Соеденим датасеты\n",
    "df_sss = df_sss.merge(first_buy, how='inner', on='customer_unique_id')"
   ]
  },
  {
   "cell_type": "code",
   "execution_count": 548,
   "metadata": {},
   "outputs": [
    {
     "data": {
      "text/html": [
       "<div>\n",
       "<style scoped>\n",
       "    .dataframe tbody tr th:only-of-type {\n",
       "        vertical-align: middle;\n",
       "    }\n",
       "\n",
       "    .dataframe tbody tr th {\n",
       "        vertical-align: top;\n",
       "    }\n",
       "\n",
       "    .dataframe thead th {\n",
       "        text-align: right;\n",
       "    }\n",
       "</style>\n",
       "<table border=\"1\" class=\"dataframe\">\n",
       "  <thead>\n",
       "    <tr style=\"text-align: right;\">\n",
       "      <th></th>\n",
       "      <th>customer_id</th>\n",
       "      <th>customer_unique_id</th>\n",
       "      <th>order_date</th>\n",
       "      <th>first_order_date</th>\n",
       "    </tr>\n",
       "  </thead>\n",
       "  <tbody>\n",
       "    <tr>\n",
       "      <th>0</th>\n",
       "      <td>4b7decb9b58e2569548b8b4c8e20e8d7</td>\n",
       "      <td>ff22e30958c13ffe219db7d711e8f564</td>\n",
       "      <td>2018-09</td>\n",
       "      <td>2018-09</td>\n",
       "    </tr>\n",
       "    <tr>\n",
       "      <th>1</th>\n",
       "      <td>13bf775a749925a15ef7cc1985b564f1</td>\n",
       "      <td>ff22e30958c13ffe219db7d711e8f564</td>\n",
       "      <td>2018-08</td>\n",
       "      <td>2018-09</td>\n",
       "    </tr>\n",
       "  </tbody>\n",
       "</table>\n",
       "</div>"
      ],
      "text/plain": [
       "                        customer_id                customer_unique_id  \\\n",
       "0  4b7decb9b58e2569548b8b4c8e20e8d7  ff22e30958c13ffe219db7d711e8f564   \n",
       "1  13bf775a749925a15ef7cc1985b564f1  ff22e30958c13ffe219db7d711e8f564   \n",
       "\n",
       "  order_date first_order_date  \n",
       "0    2018-09          2018-09  \n",
       "1    2018-08          2018-09  "
      ]
     },
     "execution_count": 548,
     "metadata": {},
     "output_type": "execute_result"
    }
   ],
   "source": [
    "df_sss = df_sss.rename(columns={'order_approved_at_x' : 'order_date', 'order_approved_at_y' : 'first_order_date'})\n",
    "df_sss.head(2)"
   ]
  },
  {
   "cell_type": "code",
   "execution_count": 549,
   "metadata": {},
   "outputs": [
    {
     "data": {
      "text/html": [
       "<div>\n",
       "<style scoped>\n",
       "    .dataframe tbody tr th:only-of-type {\n",
       "        vertical-align: middle;\n",
       "    }\n",
       "\n",
       "    .dataframe tbody tr th {\n",
       "        vertical-align: top;\n",
       "    }\n",
       "\n",
       "    .dataframe thead th {\n",
       "        text-align: right;\n",
       "    }\n",
       "</style>\n",
       "<table border=\"1\" class=\"dataframe\">\n",
       "  <thead>\n",
       "    <tr style=\"text-align: right;\">\n",
       "      <th></th>\n",
       "      <th>customer_id</th>\n",
       "      <th>customer_unique_id</th>\n",
       "      <th>order_date</th>\n",
       "      <th>first_order_date</th>\n",
       "    </tr>\n",
       "  </thead>\n",
       "  <tbody>\n",
       "    <tr>\n",
       "      <th>54772</th>\n",
       "      <td>dc3daad47c0792f3bd4366246a7955dc</td>\n",
       "      <td>5d11f19985edbb3c068e805434a80f87</td>\n",
       "      <td>2017-12</td>\n",
       "      <td>2017-12</td>\n",
       "    </tr>\n",
       "    <tr>\n",
       "      <th>54773</th>\n",
       "      <td>92566e623b70efba98063150b200cba4</td>\n",
       "      <td>b890928f02ba9a0dfbc6ec8009bee0fd</td>\n",
       "      <td>2017-12</td>\n",
       "      <td>2017-12</td>\n",
       "    </tr>\n",
       "    <tr>\n",
       "      <th>54774</th>\n",
       "      <td>2f368064b4e6646a7784a46b03b4bcbc</td>\n",
       "      <td>addd42012ed67639f9e0d26155b7c2e1</td>\n",
       "      <td>2017-12</td>\n",
       "      <td>2017-12</td>\n",
       "    </tr>\n",
       "    <tr>\n",
       "      <th>54775</th>\n",
       "      <td>98a1a1e41310f70974831b79bf01e4e6</td>\n",
       "      <td>e6797b7d4c35624ef13982ab27d3255b</td>\n",
       "      <td>2017-12</td>\n",
       "      <td>2017-12</td>\n",
       "    </tr>\n",
       "    <tr>\n",
       "      <th>54776</th>\n",
       "      <td>ce3fd019ee6c37bef63731c9aa9ae70e</td>\n",
       "      <td>746cb64489db5b37e7d7502a2b029bb6</td>\n",
       "      <td>2017-12</td>\n",
       "      <td>2017-12</td>\n",
       "    </tr>\n",
       "    <tr>\n",
       "      <th>...</th>\n",
       "      <td>...</td>\n",
       "      <td>...</td>\n",
       "      <td>...</td>\n",
       "      <td>...</td>\n",
       "    </tr>\n",
       "    <tr>\n",
       "      <th>98964</th>\n",
       "      <td>7dfd10dcc726950fc6171cea83872351</td>\n",
       "      <td>48368b31672665cca1b8a03047a1702a</td>\n",
       "      <td>2017-01</td>\n",
       "      <td>2017-01</td>\n",
       "    </tr>\n",
       "    <tr>\n",
       "      <th>98965</th>\n",
       "      <td>4b60b3ade055c6ad88a00758c8e8a162</td>\n",
       "      <td>b88b78a413e70182e18b032361b24f91</td>\n",
       "      <td>2017-01</td>\n",
       "      <td>2017-01</td>\n",
       "    </tr>\n",
       "    <tr>\n",
       "      <th>98966</th>\n",
       "      <td>758b633d88b82063db189810084f4ea9</td>\n",
       "      <td>4b3207464f5f7a48a7f63fa0b1251d86</td>\n",
       "      <td>2017-01</td>\n",
       "      <td>2017-01</td>\n",
       "    </tr>\n",
       "    <tr>\n",
       "      <th>98967</th>\n",
       "      <td>c24fc5f9a446b4d8262041b9c64de772</td>\n",
       "      <td>f7b981e8a280e455ac3cbe0d5d171bd1</td>\n",
       "      <td>2017-01</td>\n",
       "      <td>2017-01</td>\n",
       "    </tr>\n",
       "    <tr>\n",
       "      <th>98968</th>\n",
       "      <td>0975c3cf2e418ebfa5d1191a2dffd59d</td>\n",
       "      <td>f7b981e8a280e455ac3cbe0d5d171bd1</td>\n",
       "      <td>2016-12</td>\n",
       "      <td>2017-01</td>\n",
       "    </tr>\n",
       "  </tbody>\n",
       "</table>\n",
       "<p>44197 rows × 4 columns</p>\n",
       "</div>"
      ],
      "text/plain": [
       "                            customer_id                customer_unique_id  \\\n",
       "54772  dc3daad47c0792f3bd4366246a7955dc  5d11f19985edbb3c068e805434a80f87   \n",
       "54773  92566e623b70efba98063150b200cba4  b890928f02ba9a0dfbc6ec8009bee0fd   \n",
       "54774  2f368064b4e6646a7784a46b03b4bcbc  addd42012ed67639f9e0d26155b7c2e1   \n",
       "54775  98a1a1e41310f70974831b79bf01e4e6  e6797b7d4c35624ef13982ab27d3255b   \n",
       "54776  ce3fd019ee6c37bef63731c9aa9ae70e  746cb64489db5b37e7d7502a2b029bb6   \n",
       "...                                 ...                               ...   \n",
       "98964  7dfd10dcc726950fc6171cea83872351  48368b31672665cca1b8a03047a1702a   \n",
       "98965  4b60b3ade055c6ad88a00758c8e8a162  b88b78a413e70182e18b032361b24f91   \n",
       "98966  758b633d88b82063db189810084f4ea9  4b3207464f5f7a48a7f63fa0b1251d86   \n",
       "98967  c24fc5f9a446b4d8262041b9c64de772  f7b981e8a280e455ac3cbe0d5d171bd1   \n",
       "98968  0975c3cf2e418ebfa5d1191a2dffd59d  f7b981e8a280e455ac3cbe0d5d171bd1   \n",
       "\n",
       "      order_date first_order_date  \n",
       "54772    2017-12          2017-12  \n",
       "54773    2017-12          2017-12  \n",
       "54774    2017-12          2017-12  \n",
       "54775    2017-12          2017-12  \n",
       "54776    2017-12          2017-12  \n",
       "...          ...              ...  \n",
       "98964    2017-01          2017-01  \n",
       "98965    2017-01          2017-01  \n",
       "98966    2017-01          2017-01  \n",
       "98967    2017-01          2017-01  \n",
       "98968    2016-12          2017-01  \n",
       "\n",
       "[44197 rows x 4 columns]"
      ]
     },
     "execution_count": 549,
     "metadata": {},
     "output_type": "execute_result"
    }
   ],
   "source": [
    "df_sss = df_sss.query(\"first_order_date >= '2017-01' & first_order_date <= '2017-12'\")\n",
    "df_sss"
   ]
  },
  {
   "cell_type": "code",
   "execution_count": 550,
   "metadata": {},
   "outputs": [
    {
     "data": {
      "text/html": [
       "<div>\n",
       "<style scoped>\n",
       "    .dataframe tbody tr th:only-of-type {\n",
       "        vertical-align: middle;\n",
       "    }\n",
       "\n",
       "    .dataframe tbody tr th {\n",
       "        vertical-align: top;\n",
       "    }\n",
       "\n",
       "    .dataframe thead th {\n",
       "        text-align: right;\n",
       "    }\n",
       "</style>\n",
       "<table border=\"1\" class=\"dataframe\">\n",
       "  <thead>\n",
       "    <tr style=\"text-align: right;\">\n",
       "      <th></th>\n",
       "      <th>first_order_date</th>\n",
       "      <th>order_date</th>\n",
       "      <th>customer_unique_id</th>\n",
       "    </tr>\n",
       "  </thead>\n",
       "  <tbody>\n",
       "    <tr>\n",
       "      <th>0</th>\n",
       "      <td>2017-01</td>\n",
       "      <td>2016-12</td>\n",
       "      <td>1</td>\n",
       "    </tr>\n",
       "    <tr>\n",
       "      <th>1</th>\n",
       "      <td>2017-01</td>\n",
       "      <td>2017-01</td>\n",
       "      <td>693</td>\n",
       "    </tr>\n",
       "    <tr>\n",
       "      <th>2</th>\n",
       "      <td>2017-02</td>\n",
       "      <td>2017-01</td>\n",
       "      <td>4</td>\n",
       "    </tr>\n",
       "    <tr>\n",
       "      <th>3</th>\n",
       "      <td>2017-02</td>\n",
       "      <td>2017-02</td>\n",
       "      <td>1690</td>\n",
       "    </tr>\n",
       "    <tr>\n",
       "      <th>4</th>\n",
       "      <td>2017-03</td>\n",
       "      <td>2017-01</td>\n",
       "      <td>2</td>\n",
       "    </tr>\n",
       "  </tbody>\n",
       "</table>\n",
       "</div>"
      ],
      "text/plain": [
       "  first_order_date order_date  customer_unique_id\n",
       "0          2017-01    2016-12                   1\n",
       "1          2017-01    2017-01                 693\n",
       "2          2017-02    2017-01                   4\n",
       "3          2017-02    2017-02                1690\n",
       "4          2017-03    2017-01                   2"
      ]
     },
     "execution_count": 550,
     "metadata": {},
     "output_type": "execute_result"
    }
   ],
   "source": [
    "# Подсчёт количества покупателей в разбивке по дате первой покупки и дате всех остальных покупок\n",
    "df_sss = df_sss.groupby(['first_order_date', 'order_date'], as_index=False).agg({'customer_unique_id':'nunique'})\n",
    "df_sss.head()"
   ]
  },
  {
   "cell_type": "markdown",
   "metadata": {},
   "source": [
    "# Добавим функцию которая считает когорту\n"
   ]
  },
  {
   "cell_type": "code",
   "execution_count": 551,
   "metadata": {},
   "outputs": [
    {
     "data": {
      "text/html": [
       "<div>\n",
       "<style scoped>\n",
       "    .dataframe tbody tr th:only-of-type {\n",
       "        vertical-align: middle;\n",
       "    }\n",
       "\n",
       "    .dataframe tbody tr th {\n",
       "        vertical-align: top;\n",
       "    }\n",
       "\n",
       "    .dataframe thead th {\n",
       "        text-align: right;\n",
       "    }\n",
       "</style>\n",
       "<table border=\"1\" class=\"dataframe\">\n",
       "  <thead>\n",
       "    <tr style=\"text-align: right;\">\n",
       "      <th></th>\n",
       "      <th>first_order_date</th>\n",
       "      <th>order_date</th>\n",
       "      <th>customer_unique_id</th>\n",
       "      <th>cohort_period</th>\n",
       "    </tr>\n",
       "  </thead>\n",
       "  <tbody>\n",
       "    <tr>\n",
       "      <th>0</th>\n",
       "      <td>2017-01</td>\n",
       "      <td>2016-12</td>\n",
       "      <td>1</td>\n",
       "      <td>0</td>\n",
       "    </tr>\n",
       "    <tr>\n",
       "      <th>1</th>\n",
       "      <td>2017-01</td>\n",
       "      <td>2017-01</td>\n",
       "      <td>693</td>\n",
       "      <td>1</td>\n",
       "    </tr>\n",
       "    <tr>\n",
       "      <th>2</th>\n",
       "      <td>2017-02</td>\n",
       "      <td>2017-01</td>\n",
       "      <td>4</td>\n",
       "      <td>0</td>\n",
       "    </tr>\n",
       "    <tr>\n",
       "      <th>3</th>\n",
       "      <td>2017-02</td>\n",
       "      <td>2017-02</td>\n",
       "      <td>1690</td>\n",
       "      <td>1</td>\n",
       "    </tr>\n",
       "    <tr>\n",
       "      <th>4</th>\n",
       "      <td>2017-03</td>\n",
       "      <td>2017-01</td>\n",
       "      <td>2</td>\n",
       "      <td>0</td>\n",
       "    </tr>\n",
       "  </tbody>\n",
       "</table>\n",
       "</div>"
      ],
      "text/plain": [
       "  first_order_date order_date  customer_unique_id  cohort_period\n",
       "0          2017-01    2016-12                   1              0\n",
       "1          2017-01    2017-01                 693              1\n",
       "2          2017-02    2017-01                   4              0\n",
       "3          2017-02    2017-02                1690              1\n",
       "4          2017-03    2017-01                   2              0"
      ]
     },
     "execution_count": 551,
     "metadata": {},
     "output_type": "execute_result"
    }
   ],
   "source": [
    "def cohort_period(cohorts):\n",
    "    cohorts['cohort_period'] = np.arange(len(cohorts))\n",
    "    return cohorts\n",
    "\n",
    "df_sss = df_sss.groupby('first_order_date').apply(cohort_period)\n",
    "df_sss.head()"
   ]
  },
  {
   "cell_type": "code",
   "execution_count": 552,
   "metadata": {},
   "outputs": [
    {
     "data": {
      "text/html": [
       "<div>\n",
       "<style scoped>\n",
       "    .dataframe tbody tr th:only-of-type {\n",
       "        vertical-align: middle;\n",
       "    }\n",
       "\n",
       "    .dataframe tbody tr th {\n",
       "        vertical-align: top;\n",
       "    }\n",
       "\n",
       "    .dataframe thead th {\n",
       "        text-align: right;\n",
       "    }\n",
       "</style>\n",
       "<table border=\"1\" class=\"dataframe\">\n",
       "  <thead>\n",
       "    <tr style=\"text-align: right;\">\n",
       "      <th>cohort_period</th>\n",
       "      <th>0</th>\n",
       "      <th>1</th>\n",
       "      <th>2</th>\n",
       "      <th>3</th>\n",
       "      <th>4</th>\n",
       "      <th>5</th>\n",
       "      <th>6</th>\n",
       "      <th>7</th>\n",
       "      <th>8</th>\n",
       "      <th>9</th>\n",
       "      <th>10</th>\n",
       "      <th>11</th>\n",
       "    </tr>\n",
       "    <tr>\n",
       "      <th>first_order_date</th>\n",
       "      <th></th>\n",
       "      <th></th>\n",
       "      <th></th>\n",
       "      <th></th>\n",
       "      <th></th>\n",
       "      <th></th>\n",
       "      <th></th>\n",
       "      <th></th>\n",
       "      <th></th>\n",
       "      <th></th>\n",
       "      <th></th>\n",
       "      <th></th>\n",
       "    </tr>\n",
       "  </thead>\n",
       "  <tbody>\n",
       "    <tr>\n",
       "      <th>2017-01</th>\n",
       "      <td>1.0</td>\n",
       "      <td>693.0</td>\n",
       "      <td>NaN</td>\n",
       "      <td>NaN</td>\n",
       "      <td>NaN</td>\n",
       "      <td>NaN</td>\n",
       "      <td>NaN</td>\n",
       "      <td>NaN</td>\n",
       "      <td>NaN</td>\n",
       "      <td>NaN</td>\n",
       "      <td>NaN</td>\n",
       "      <td>NaN</td>\n",
       "    </tr>\n",
       "    <tr>\n",
       "      <th>2017-02</th>\n",
       "      <td>4.0</td>\n",
       "      <td>1690.0</td>\n",
       "      <td>NaN</td>\n",
       "      <td>NaN</td>\n",
       "      <td>NaN</td>\n",
       "      <td>NaN</td>\n",
       "      <td>NaN</td>\n",
       "      <td>NaN</td>\n",
       "      <td>NaN</td>\n",
       "      <td>NaN</td>\n",
       "      <td>NaN</td>\n",
       "      <td>NaN</td>\n",
       "    </tr>\n",
       "    <tr>\n",
       "      <th>2017-03</th>\n",
       "      <td>2.0</td>\n",
       "      <td>4.0</td>\n",
       "      <td>2557.0</td>\n",
       "      <td>NaN</td>\n",
       "      <td>NaN</td>\n",
       "      <td>NaN</td>\n",
       "      <td>NaN</td>\n",
       "      <td>NaN</td>\n",
       "      <td>NaN</td>\n",
       "      <td>NaN</td>\n",
       "      <td>NaN</td>\n",
       "      <td>NaN</td>\n",
       "    </tr>\n",
       "    <tr>\n",
       "      <th>2017-04</th>\n",
       "      <td>1.0</td>\n",
       "      <td>1.0</td>\n",
       "      <td>4.0</td>\n",
       "      <td>11.0</td>\n",
       "      <td>2261.0</td>\n",
       "      <td>NaN</td>\n",
       "      <td>NaN</td>\n",
       "      <td>NaN</td>\n",
       "      <td>NaN</td>\n",
       "      <td>NaN</td>\n",
       "      <td>NaN</td>\n",
       "      <td>NaN</td>\n",
       "    </tr>\n",
       "    <tr>\n",
       "      <th>2017-05</th>\n",
       "      <td>1.0</td>\n",
       "      <td>2.0</td>\n",
       "      <td>7.0</td>\n",
       "      <td>14.0</td>\n",
       "      <td>3482.0</td>\n",
       "      <td>NaN</td>\n",
       "      <td>NaN</td>\n",
       "      <td>NaN</td>\n",
       "      <td>NaN</td>\n",
       "      <td>NaN</td>\n",
       "      <td>NaN</td>\n",
       "      <td>NaN</td>\n",
       "    </tr>\n",
       "    <tr>\n",
       "      <th>2017-06</th>\n",
       "      <td>1.0</td>\n",
       "      <td>7.0</td>\n",
       "      <td>7.0</td>\n",
       "      <td>5.0</td>\n",
       "      <td>16.0</td>\n",
       "      <td>3069.0</td>\n",
       "      <td>NaN</td>\n",
       "      <td>NaN</td>\n",
       "      <td>NaN</td>\n",
       "      <td>NaN</td>\n",
       "      <td>NaN</td>\n",
       "      <td>NaN</td>\n",
       "    </tr>\n",
       "    <tr>\n",
       "      <th>2017-07</th>\n",
       "      <td>1.0</td>\n",
       "      <td>4.0</td>\n",
       "      <td>2.0</td>\n",
       "      <td>8.0</td>\n",
       "      <td>4.0</td>\n",
       "      <td>14.0</td>\n",
       "      <td>13.0</td>\n",
       "      <td>3772.0</td>\n",
       "      <td>NaN</td>\n",
       "      <td>NaN</td>\n",
       "      <td>NaN</td>\n",
       "      <td>NaN</td>\n",
       "    </tr>\n",
       "    <tr>\n",
       "      <th>2017-08</th>\n",
       "      <td>1.0</td>\n",
       "      <td>3.0</td>\n",
       "      <td>4.0</td>\n",
       "      <td>5.0</td>\n",
       "      <td>12.0</td>\n",
       "      <td>9.0</td>\n",
       "      <td>18.0</td>\n",
       "      <td>4121.0</td>\n",
       "      <td>NaN</td>\n",
       "      <td>NaN</td>\n",
       "      <td>NaN</td>\n",
       "      <td>NaN</td>\n",
       "    </tr>\n",
       "    <tr>\n",
       "      <th>2017-09</th>\n",
       "      <td>3.0</td>\n",
       "      <td>3.0</td>\n",
       "      <td>6.0</td>\n",
       "      <td>8.0</td>\n",
       "      <td>12.0</td>\n",
       "      <td>13.0</td>\n",
       "      <td>26.0</td>\n",
       "      <td>4091.0</td>\n",
       "      <td>NaN</td>\n",
       "      <td>NaN</td>\n",
       "      <td>NaN</td>\n",
       "      <td>NaN</td>\n",
       "    </tr>\n",
       "    <tr>\n",
       "      <th>2017-10</th>\n",
       "      <td>2.0</td>\n",
       "      <td>7.0</td>\n",
       "      <td>8.0</td>\n",
       "      <td>9.0</td>\n",
       "      <td>8.0</td>\n",
       "      <td>7.0</td>\n",
       "      <td>17.0</td>\n",
       "      <td>25.0</td>\n",
       "      <td>4400.0</td>\n",
       "      <td>NaN</td>\n",
       "      <td>NaN</td>\n",
       "      <td>NaN</td>\n",
       "    </tr>\n",
       "    <tr>\n",
       "      <th>2017-11</th>\n",
       "      <td>1.0</td>\n",
       "      <td>1.0</td>\n",
       "      <td>3.0</td>\n",
       "      <td>7.0</td>\n",
       "      <td>6.0</td>\n",
       "      <td>13.0</td>\n",
       "      <td>12.0</td>\n",
       "      <td>11.0</td>\n",
       "      <td>9.0</td>\n",
       "      <td>19.0</td>\n",
       "      <td>25.0</td>\n",
       "      <td>7132.0</td>\n",
       "    </tr>\n",
       "    <tr>\n",
       "      <th>2017-12</th>\n",
       "      <td>2.0</td>\n",
       "      <td>2.0</td>\n",
       "      <td>2.0</td>\n",
       "      <td>8.0</td>\n",
       "      <td>7.0</td>\n",
       "      <td>11.0</td>\n",
       "      <td>8.0</td>\n",
       "      <td>13.0</td>\n",
       "      <td>12.0</td>\n",
       "      <td>13.0</td>\n",
       "      <td>38.0</td>\n",
       "      <td>5657.0</td>\n",
       "    </tr>\n",
       "  </tbody>\n",
       "</table>\n",
       "</div>"
      ],
      "text/plain": [
       "cohort_period      0       1       2     3       4       5     6       7   \\\n",
       "first_order_date                                                            \n",
       "2017-01           1.0   693.0     NaN   NaN     NaN     NaN   NaN     NaN   \n",
       "2017-02           4.0  1690.0     NaN   NaN     NaN     NaN   NaN     NaN   \n",
       "2017-03           2.0     4.0  2557.0   NaN     NaN     NaN   NaN     NaN   \n",
       "2017-04           1.0     1.0     4.0  11.0  2261.0     NaN   NaN     NaN   \n",
       "2017-05           1.0     2.0     7.0  14.0  3482.0     NaN   NaN     NaN   \n",
       "2017-06           1.0     7.0     7.0   5.0    16.0  3069.0   NaN     NaN   \n",
       "2017-07           1.0     4.0     2.0   8.0     4.0    14.0  13.0  3772.0   \n",
       "2017-08           1.0     3.0     4.0   5.0    12.0     9.0  18.0  4121.0   \n",
       "2017-09           3.0     3.0     6.0   8.0    12.0    13.0  26.0  4091.0   \n",
       "2017-10           2.0     7.0     8.0   9.0     8.0     7.0  17.0    25.0   \n",
       "2017-11           1.0     1.0     3.0   7.0     6.0    13.0  12.0    11.0   \n",
       "2017-12           2.0     2.0     2.0   8.0     7.0    11.0   8.0    13.0   \n",
       "\n",
       "cohort_period         8     9     10      11  \n",
       "first_order_date                              \n",
       "2017-01              NaN   NaN   NaN     NaN  \n",
       "2017-02              NaN   NaN   NaN     NaN  \n",
       "2017-03              NaN   NaN   NaN     NaN  \n",
       "2017-04              NaN   NaN   NaN     NaN  \n",
       "2017-05              NaN   NaN   NaN     NaN  \n",
       "2017-06              NaN   NaN   NaN     NaN  \n",
       "2017-07              NaN   NaN   NaN     NaN  \n",
       "2017-08              NaN   NaN   NaN     NaN  \n",
       "2017-09              NaN   NaN   NaN     NaN  \n",
       "2017-10           4400.0   NaN   NaN     NaN  \n",
       "2017-11              9.0  19.0  25.0  7132.0  \n",
       "2017-12             12.0  13.0  38.0  5657.0  "
      ]
     },
     "execution_count": 552,
     "metadata": {},
     "output_type": "execute_result"
    }
   ],
   "source": [
    "# Создание наглядной сводной таблицы \n",
    "df_sss = df_sss.pivot(columns='cohort_period', index = 'first_order_date',values='customer_unique_id')\n",
    "df_sss"
   ]
  },
  {
   "cell_type": "code",
   "execution_count": 554,
   "metadata": {},
   "outputs": [
    {
     "data": {
      "image/png": "[encoded data removed]",
      "text/plain": [
       "<Figure size 1080x720 with 2 Axes>"
      ]
     },
     "metadata": {
      "needs_background": "light"
     },
     "output_type": "display_data"
    }
   ],
   "source": [
    "# Визуализация данных\n",
    "plt.figure(figsize=(15,10))\n",
    "ax = sns.heatmap(df_sss, vmax=1, annot=True, fmt='.2f', cmap='inferno')\n",
    "plt.xlabel('Cohort Period',size= 16)\n",
    "plt.ylabel('Cohorts', size= 16)\n",
    "plt.title('Retention 2017', size= 18)\n",
    "ax.set_yticklabels(ax.get_yticklabels(), rotation=0)\n",
    "plt.show()"
   ]
  },
  {
   "cell_type": "markdown",
   "metadata": {},
   "source": [
    "### 6. Построй RFM-сегментацию пользователей, чтобы качественно оценить свою аудиторию. \n",
    "В кластеризации можешь выбрать следующие метрики: \n",
    "R - время от последней покупки пользователя до текущей даты \n",
    "F - суммарное количество покупок у пользователя за всё время, \n",
    "M - сумма покупок за всё время.\n",
    "Подробно опиши, как ты создавал кластеры. \n",
    "Для каждого RFM-сегмента построй границы метрик recency, frequency и monetary для интерпретации этих кластеров. "
   ]
  },
  {
   "cell_type": "markdown",
   "metadata": {},
   "source": [
    "### Подготовка данных для удобной работы, соеденим все три датафрейма."
   ]
  },
  {
   "cell_type": "code",
   "execution_count": 3,
   "metadata": {},
   "outputs": [],
   "source": [
    "rfm_df = orders_df[['order_id', 'customer_id', 'order_approved_at']] \\\n",
    "                .merge(customers_df[['customer_id', 'customer_unique_id']], on='customer_id', how='left') \\\n",
    "                .merge(items_df[['order_id', 'order_item_id', 'product_id', 'price']], on='order_id', how='left')"
   ]
  },
  {
   "cell_type": "code",
   "execution_count": 4,
   "metadata": {},
   "outputs": [
    {
     "name": "stdout",
     "output_type": "stream",
     "text": [
      "<class 'pandas.core.frame.DataFrame'>\n",
      "Int64Index: 113425 entries, 0 to 113424\n",
      "Data columns (total 7 columns):\n",
      " #   Column              Non-Null Count   Dtype         \n",
      "---  ------              --------------   -----         \n",
      " 0   order_id            113425 non-null  object        \n",
      " 1   customer_id         113425 non-null  object        \n",
      " 2   order_approved_at   113264 non-null  datetime64[ns]\n",
      " 3   customer_unique_id  113425 non-null  object        \n",
      " 4   order_item_id       112650 non-null  float64       \n",
      " 5   product_id          112650 non-null  object        \n",
      " 6   price               112650 non-null  float64       \n",
      "dtypes: datetime64[ns](1), float64(2), object(4)\n",
      "memory usage: 6.9+ MB\n"
     ]
    }
   ],
   "source": [
    "rfm_df.info()"
   ]
  },
  {
   "cell_type": "code",
   "execution_count": 5,
   "metadata": {},
   "outputs": [],
   "source": [
    "rfm_df = rfm_df.drop(columns=['customer_id', 'product_id', 'order_item_id'])"
   ]
  },
  {
   "cell_type": "markdown",
   "metadata": {},
   "source": [
    "##### Т.к. мы ориентируемся на определение покупки, установленное в самом начале, то нужно удалить пустые значения из колонки order_approved_at."
   ]
  },
  {
   "cell_type": "code",
   "execution_count": 6,
   "metadata": {},
   "outputs": [
    {
     "data": {
      "text/plain": [
       "order_id                0\n",
       "order_approved_at     161\n",
       "customer_unique_id      0\n",
       "price                 775\n",
       "dtype: int64"
      ]
     },
     "execution_count": 6,
     "metadata": {},
     "output_type": "execute_result"
    }
   ],
   "source": [
    "rfm_df.isna().sum()"
   ]
  },
  {
   "cell_type": "code",
   "execution_count": 7,
   "metadata": {},
   "outputs": [],
   "source": [
    "rfm_df = rfm_df.dropna(subset=['order_approved_at'])"
   ]
  },
  {
   "cell_type": "markdown",
   "metadata": {},
   "source": [
    "##### Отчистили данные, теперь мы имеем все оплачанные заказы и можем приступать к работе."
   ]
  },
  {
   "cell_type": "code",
   "execution_count": 8,
   "metadata": {},
   "outputs": [
    {
     "name": "stdout",
     "output_type": "stream",
     "text": [
      "<class 'pandas.core.frame.DataFrame'>\n",
      "Int64Index: 113264 entries, 0 to 113424\n",
      "Data columns (total 4 columns):\n",
      " #   Column              Non-Null Count   Dtype         \n",
      "---  ------              --------------   -----         \n",
      " 0   order_id            113264 non-null  object        \n",
      " 1   order_approved_at   113264 non-null  datetime64[ns]\n",
      " 2   customer_unique_id  113264 non-null  object        \n",
      " 3   price               112635 non-null  float64       \n",
      "dtypes: datetime64[ns](1), float64(1), object(2)\n",
      "memory usage: 4.3+ MB\n"
     ]
    }
   ],
   "source": [
    "rfm_df['order_approved_at'] = pd.to_datetime(rfm_df['order_approved_at'])\n",
    "rfm_df.info()"
   ]
  },
  {
   "cell_type": "code",
   "execution_count": 9,
   "metadata": {},
   "outputs": [],
   "source": [
    "# Определение даты последней покупки.\n",
    "last_buy = rfm_df.order_approved_at.max()+ timedelta(days=1)"
   ]
  },
  {
   "cell_type": "code",
   "execution_count": 10,
   "metadata": {},
   "outputs": [
    {
     "data": {
      "text/plain": [
       "Timestamp('2018-09-04 17:40:06')"
      ]
     },
     "execution_count": 10,
     "metadata": {},
     "output_type": "execute_result"
    }
   ],
   "source": [
    "last_buy"
   ]
  },
  {
   "cell_type": "code",
   "execution_count": 11,
   "metadata": {},
   "outputs": [],
   "source": [
    "rfm = rfm_df.groupby('customer_unique_id', as_index=False) \\\n",
    "            .agg({'order_approved_at': lambda x: (last_buy - x.max()).days, \n",
    "                  'order_id': lambda x: len(x), \n",
    "                  'price': lambda x: x.sum()}) \\\n",
    "            .rename(columns={'order_approved_at' : 'recency', 'order_id' : 'frequency', 'price' : 'monetary'})"
   ]
  },
  {
   "cell_type": "code",
   "execution_count": 16,
   "metadata": {},
   "outputs": [
    {
     "data": {
      "text/html": [
       "<div>\n",
       "<style scoped>\n",
       "    .dataframe tbody tr th:only-of-type {\n",
       "        vertical-align: middle;\n",
       "    }\n",
       "\n",
       "    .dataframe tbody tr th {\n",
       "        vertical-align: top;\n",
       "    }\n",
       "\n",
       "    .dataframe thead th {\n",
       "        text-align: right;\n",
       "    }\n",
       "</style>\n",
       "<table border=\"1\" class=\"dataframe\">\n",
       "  <thead>\n",
       "    <tr style=\"text-align: right;\">\n",
       "      <th></th>\n",
       "      <th>recency</th>\n",
       "      <th>frequency</th>\n",
       "      <th>monetary</th>\n",
       "    </tr>\n",
       "  </thead>\n",
       "  <tbody>\n",
       "    <tr>\n",
       "      <th>0.2</th>\n",
       "      <td>98.0</td>\n",
       "      <td>1.0</td>\n",
       "      <td>39.0</td>\n",
       "    </tr>\n",
       "    <tr>\n",
       "      <th>0.4</th>\n",
       "      <td>183.0</td>\n",
       "      <td>1.0</td>\n",
       "      <td>69.0</td>\n",
       "    </tr>\n",
       "    <tr>\n",
       "      <th>0.6</th>\n",
       "      <td>274.0</td>\n",
       "      <td>1.0</td>\n",
       "      <td>109.9</td>\n",
       "    </tr>\n",
       "    <tr>\n",
       "      <th>0.8</th>\n",
       "      <td>389.0</td>\n",
       "      <td>1.0</td>\n",
       "      <td>179.9</td>\n",
       "    </tr>\n",
       "  </tbody>\n",
       "</table>\n",
       "</div>"
      ],
      "text/plain": [
       "     recency  frequency  monetary\n",
       "0.2     98.0        1.0      39.0\n",
       "0.4    183.0        1.0      69.0\n",
       "0.6    274.0        1.0     109.9\n",
       "0.8    389.0        1.0     179.9"
      ]
     },
     "execution_count": 16,
     "metadata": {},
     "output_type": "execute_result"
    }
   ],
   "source": [
    "# Определение квантилей каждой метрики для разделения их на 4 группы\n",
    "quintiles = rfm[['recency', 'frequency', 'monetary']].quantile([.2, .4, .6, .8])\n",
    "quintiles"
   ]
  },
  {
   "cell_type": "code",
   "execution_count": 18,
   "metadata": {},
   "outputs": [],
   "source": [
    "# Присвоение рангов от 1 до 5. \n",
    "def r_score(x):\n",
    "    if x <= quintiles['recency'][.2]:\n",
    "        return 5\n",
    "    elif x <= quintiles['recency'][.4]:\n",
    "        return 4\n",
    "    elif x <= quintiles['recency'][.6]:\n",
    "        return 3\n",
    "    elif x <= quintiles['recency'][.8]:\n",
    "        return 2\n",
    "    else:\n",
    "        return 1\n",
    "\n",
    "def fm_score(x, c):\n",
    "    if x <= quintiles[c][.2]:\n",
    "        return 1\n",
    "    elif x <= quintiles[c][.4]:\n",
    "        return 2\n",
    "    elif x <= quintiles[c][.6]:\n",
    "        return 3\n",
    "    elif x <= quintiles[c][.8]:\n",
    "        return 4\n",
    "    else:\n",
    "        return 5 "
   ]
  },
  {
   "cell_type": "code",
   "execution_count": 19,
   "metadata": {},
   "outputs": [],
   "source": [
    "# Выставляем оценки \n",
    "rfm['R'] = rfm['recency'].apply(lambda x: r_score(x))\n",
    "rfm['F'] = rfm['frequency'].apply(lambda x: fm_score(x, 'frequency'))\n",
    "rfm['M'] = rfm['monetary'].apply(lambda x: fm_score(x, 'monetary'))"
   ]
  },
  {
   "cell_type": "code",
   "execution_count": 20,
   "metadata": {},
   "outputs": [
    {
     "data": {
      "text/html": [
       "<div>\n",
       "<style scoped>\n",
       "    .dataframe tbody tr th:only-of-type {\n",
       "        vertical-align: middle;\n",
       "    }\n",
       "\n",
       "    .dataframe tbody tr th {\n",
       "        vertical-align: top;\n",
       "    }\n",
       "\n",
       "    .dataframe thead th {\n",
       "        text-align: right;\n",
       "    }\n",
       "</style>\n",
       "<table border=\"1\" class=\"dataframe\">\n",
       "  <thead>\n",
       "    <tr style=\"text-align: right;\">\n",
       "      <th></th>\n",
       "      <th>customer_unique_id</th>\n",
       "      <th>recency</th>\n",
       "      <th>frequency</th>\n",
       "      <th>monetary</th>\n",
       "      <th>R</th>\n",
       "      <th>F</th>\n",
       "      <th>M</th>\n",
       "      <th>RFM Score</th>\n",
       "    </tr>\n",
       "  </thead>\n",
       "  <tbody>\n",
       "    <tr>\n",
       "      <th>0</th>\n",
       "      <td>0000366f3b9a7992bf8c76cfdf3221e2</td>\n",
       "      <td>117</td>\n",
       "      <td>1</td>\n",
       "      <td>129.90</td>\n",
       "      <td>4</td>\n",
       "      <td>1</td>\n",
       "      <td>4</td>\n",
       "      <td>414</td>\n",
       "    </tr>\n",
       "    <tr>\n",
       "      <th>1</th>\n",
       "      <td>0000b849f77a49e4a4ce2b2a4ca5be3f</td>\n",
       "      <td>119</td>\n",
       "      <td>1</td>\n",
       "      <td>18.90</td>\n",
       "      <td>4</td>\n",
       "      <td>1</td>\n",
       "      <td>1</td>\n",
       "      <td>411</td>\n",
       "    </tr>\n",
       "    <tr>\n",
       "      <th>2</th>\n",
       "      <td>0000f46a3911fa3c0805444483337064</td>\n",
       "      <td>542</td>\n",
       "      <td>1</td>\n",
       "      <td>69.00</td>\n",
       "      <td>1</td>\n",
       "      <td>1</td>\n",
       "      <td>2</td>\n",
       "      <td>112</td>\n",
       "    </tr>\n",
       "    <tr>\n",
       "      <th>3</th>\n",
       "      <td>0000f6ccb0745a6a4b88665a16c9f078</td>\n",
       "      <td>326</td>\n",
       "      <td>1</td>\n",
       "      <td>25.99</td>\n",
       "      <td>2</td>\n",
       "      <td>1</td>\n",
       "      <td>1</td>\n",
       "      <td>211</td>\n",
       "    </tr>\n",
       "    <tr>\n",
       "      <th>4</th>\n",
       "      <td>0004aac84e0df4da2b147fca70cf8255</td>\n",
       "      <td>293</td>\n",
       "      <td>1</td>\n",
       "      <td>180.00</td>\n",
       "      <td>2</td>\n",
       "      <td>1</td>\n",
       "      <td>5</td>\n",
       "      <td>215</td>\n",
       "    </tr>\n",
       "  </tbody>\n",
       "</table>\n",
       "</div>"
      ],
      "text/plain": [
       "                 customer_unique_id  recency  frequency  monetary  R  F  M  \\\n",
       "0  0000366f3b9a7992bf8c76cfdf3221e2      117          1    129.90  4  1  4   \n",
       "1  0000b849f77a49e4a4ce2b2a4ca5be3f      119          1     18.90  4  1  1   \n",
       "2  0000f46a3911fa3c0805444483337064      542          1     69.00  1  1  2   \n",
       "3  0000f6ccb0745a6a4b88665a16c9f078      326          1     25.99  2  1  1   \n",
       "4  0004aac84e0df4da2b147fca70cf8255      293          1    180.00  2  1  5   \n",
       "\n",
       "  RFM Score  \n",
       "0       414  \n",
       "1       411  \n",
       "2       112  \n",
       "3       211  \n",
       "4       215  "
      ]
     },
     "execution_count": 20,
     "metadata": {},
     "output_type": "execute_result"
    }
   ],
   "source": [
    "# Объединяю оценки R, F и M\n",
    "rfm['RFM Score'] = rfm['R'].map(str) + rfm['F'].map(str) + rfm['M'].map(str)\n",
    "rfm.head()"
   ]
  },
  {
   "cell_type": "code",
   "execution_count": 26,
   "metadata": {},
   "outputs": [],
   "source": [
    "rfm = rfm.rename(columns={'RFM Score' : 'RFM'})"
   ]
  },
  {
   "cell_type": "code",
   "execution_count": 29,
   "metadata": {},
   "outputs": [
    {
     "data": {
      "text/plain": [
       "50"
      ]
     },
     "execution_count": 29,
     "metadata": {},
     "output_type": "execute_result"
    }
   ],
   "source": [
    "# Смотрим количество сигментов \n",
    "rfm.RFM.nunique()"
   ]
  },
  {
   "cell_type": "markdown",
   "metadata": {},
   "source": [
    "#### Т.к. у нас большое количество RFM сигментов, то сделаем разбивку по  следующим критериям:\n",
    "\n",
    "- VIP - покупали относительно часто, на большую сумму и последняя покупка была недавно (R-score 3-4; F-score 3-4; M-score 3-4)\n",
    "- can't loose - покупали часто на большую сумму, но давно (R-score 1-2; F-score 3-4; M-score 3-4)\n",
    "- need attention - покупали редко на большую сумму, но давно (R-score 1-2; F-score 1-2; M-score 3-4)\n",
    "- loyal customers - купили дважды, в последний раз - недавно и на большую сумму (R-score 3-4; F-score 2; M-score 3-4)\n",
    "- potential loyalists - купили однажды недавно и на большую сумму (R-score 3-4; F-score 1; M-score 3-4)\n",
    "- promising - покупали 2-3 раза, последний раз недавно, но на маленькие суммы (R-score 3-4; F-score 2-3; M-score 1-2)\n",
    "- recent - купили недавно и на маленькую сумму (R-score 3-4; F-score 1; M-score 1-2)\n",
    "- about to sleep - покупали часто, но давно и на маленькие суммы (R-score 1-2; F-score 2-4; M-score 1-2)\n",
    "- lost - купили однажды давно и на маленькую сумму (R-score 1-2; F-score 1; M-score 1-2)"
   ]
  },
  {
   "cell_type": "code",
   "execution_count": 60,
   "metadata": {},
   "outputs": [
    {
     "data": {
      "text/html": [
       "<div>\n",
       "<style scoped>\n",
       "    .dataframe tbody tr th:only-of-type {\n",
       "        vertical-align: middle;\n",
       "    }\n",
       "\n",
       "    .dataframe tbody tr th {\n",
       "        vertical-align: top;\n",
       "    }\n",
       "\n",
       "    .dataframe thead th {\n",
       "        text-align: right;\n",
       "    }\n",
       "</style>\n",
       "<table border=\"1\" class=\"dataframe\">\n",
       "  <thead>\n",
       "    <tr style=\"text-align: right;\">\n",
       "      <th></th>\n",
       "      <th>customer_unique_id</th>\n",
       "      <th>recency</th>\n",
       "      <th>frequency</th>\n",
       "      <th>monetary</th>\n",
       "      <th>R</th>\n",
       "      <th>F</th>\n",
       "      <th>M</th>\n",
       "      <th>RFM</th>\n",
       "      <th>segment</th>\n",
       "    </tr>\n",
       "  </thead>\n",
       "  <tbody>\n",
       "    <tr>\n",
       "      <th>0</th>\n",
       "      <td>0000366f3b9a7992bf8c76cfdf3221e2</td>\n",
       "      <td>117</td>\n",
       "      <td>1</td>\n",
       "      <td>129.90</td>\n",
       "      <td>4</td>\n",
       "      <td>1</td>\n",
       "      <td>4</td>\n",
       "      <td>414</td>\n",
       "      <td>potential loyalists</td>\n",
       "    </tr>\n",
       "    <tr>\n",
       "      <th>1</th>\n",
       "      <td>0000b849f77a49e4a4ce2b2a4ca5be3f</td>\n",
       "      <td>119</td>\n",
       "      <td>1</td>\n",
       "      <td>18.90</td>\n",
       "      <td>4</td>\n",
       "      <td>1</td>\n",
       "      <td>1</td>\n",
       "      <td>411</td>\n",
       "      <td>promising</td>\n",
       "    </tr>\n",
       "    <tr>\n",
       "      <th>2</th>\n",
       "      <td>0000f46a3911fa3c0805444483337064</td>\n",
       "      <td>542</td>\n",
       "      <td>1</td>\n",
       "      <td>69.00</td>\n",
       "      <td>1</td>\n",
       "      <td>1</td>\n",
       "      <td>2</td>\n",
       "      <td>112</td>\n",
       "      <td>lost</td>\n",
       "    </tr>\n",
       "    <tr>\n",
       "      <th>3</th>\n",
       "      <td>0000f6ccb0745a6a4b88665a16c9f078</td>\n",
       "      <td>326</td>\n",
       "      <td>1</td>\n",
       "      <td>25.99</td>\n",
       "      <td>2</td>\n",
       "      <td>1</td>\n",
       "      <td>1</td>\n",
       "      <td>211</td>\n",
       "      <td>lost</td>\n",
       "    </tr>\n",
       "    <tr>\n",
       "      <th>4</th>\n",
       "      <td>0004aac84e0df4da2b147fca70cf8255</td>\n",
       "      <td>293</td>\n",
       "      <td>1</td>\n",
       "      <td>180.00</td>\n",
       "      <td>2</td>\n",
       "      <td>1</td>\n",
       "      <td>5</td>\n",
       "      <td>215</td>\n",
       "      <td>lost</td>\n",
       "    </tr>\n",
       "  </tbody>\n",
       "</table>\n",
       "</div>"
      ],
      "text/plain": [
       "                 customer_unique_id  recency  frequency  monetary  R  F  M  \\\n",
       "0  0000366f3b9a7992bf8c76cfdf3221e2      117          1    129.90  4  1  4   \n",
       "1  0000b849f77a49e4a4ce2b2a4ca5be3f      119          1     18.90  4  1  1   \n",
       "2  0000f46a3911fa3c0805444483337064      542          1     69.00  1  1  2   \n",
       "3  0000f6ccb0745a6a4b88665a16c9f078      326          1     25.99  2  1  1   \n",
       "4  0004aac84e0df4da2b147fca70cf8255      293          1    180.00  2  1  5   \n",
       "\n",
       "   RFM              segment  \n",
       "0  414  potential loyalists  \n",
       "1  411            promising  \n",
       "2  112                 lost  \n",
       "3  211                 lost  \n",
       "4  215                 lost  "
      ]
     },
     "execution_count": 60,
     "metadata": {},
     "output_type": "execute_result"
    }
   ],
   "source": [
    "segments = {\n",
    "    r'[3-5][3-5][3-5]': 'VIP',\n",
    "    r'[1-2][3-5][3-5]': 'can\\'t loose',\n",
    "    r'[1-2][1-2][3-4]': 'need attention',\n",
    "    r'[3-4]2[3-4]': 'loyal customers',\n",
    "    r'[3-4]1[3-4]': 'potential loyalists',\n",
    "    r'[3-5][1-5][1-2]': 'promising',\n",
    "    r'[3-5]1[1-5]': 'recent',\n",
    "    r'[1-2][2-5][1-2]': 'about to sleep',\n",
    "    r'[1-2]1[1-5]': 'lost',\n",
    "}\n",
    "\n",
    "rfm['segment'] = rfm['RFM'].replace(segments, regex=True)\n",
    "rfm.head()"
   ]
  },
  {
   "cell_type": "code",
   "execution_count": 68,
   "metadata": {},
   "outputs": [],
   "source": [
    "seg_count = rfm.groupby('segment', as_index=False).agg({'customer_unique_id' : 'count'}).sort_values('customer_unique_id')"
   ]
  },
  {
   "cell_type": "code",
   "execution_count": 71,
   "metadata": {},
   "outputs": [
    {
     "data": {
      "text/plain": [
       "<matplotlib.axes._subplots.AxesSubplot at 0x7f0269118208>"
      ]
     },
     "execution_count": 71,
     "metadata": {},
     "output_type": "execute_result"
    },
    {
     "data": {
      "image/png": "[encoded data removed]",
      "text/plain": [
       "<Figure size 1080x720 with 1 Axes>"
      ]
     },
     "metadata": {
      "needs_background": "light"
     },
     "output_type": "display_data"
    }
   ],
   "source": [
    "plt.figure(figsize=(15,10))\n",
    "sns.barplot(data=seg_count, x=\"customer_unique_id\", y=\"segment\")"
   ]
  }
 ],
 "metadata": {
  "kernelspec": {
   "display_name": "Python 3",
   "language": "python",
   "name": "python3"
  },
  "language_info": {
   "codemirror_mode": {
    "name": "ipython",
    "version": 3
   },
   "file_extension": ".py",
   "mimetype": "text/x-python",
   "name": "python",
   "nbconvert_exporter": "python",
   "pygments_lexer": "ipython3",
   "version": "3.7.3"
  }
 },
 "nbformat": 4,
 "nbformat_minor": 4
}
